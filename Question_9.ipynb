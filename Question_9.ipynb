{
  "nbformat": 4,
  "nbformat_minor": 0,
  "metadata": {
    "colab": {
      "name": "Question 9.ipynb",
      "provenance": [],
      "collapsed_sections": [],
      "mount_file_id": "14tTwDSByQLD_rn_vuRs80LnxSdkKjzgX",
      "authorship_tag": "ABX9TyMQUcjgOD0bOtJhMa17KkX/",
      "include_colab_link": true
    },
    "kernelspec": {
      "name": "python3",
      "display_name": "Python 3"
    }
  },
  "cells": [
    {
      "cell_type": "markdown",
      "metadata": {
        "id": "view-in-github",
        "colab_type": "text"
      },
      "source": [
        "<a href=\"https://colab.research.google.com/github/SanePai/Neural_Networks-Assignment-2/blob/main/Question_9.ipynb\" target=\"_parent\"><img src=\"https://colab.research.google.com/assets/colab-badge.svg\" alt=\"Open In Colab\"/></a>"
      ]
    },
    {
      "cell_type": "code",
      "metadata": {
        "colab": {
          "base_uri": "https://localhost:8080/"
        },
        "id": "eVZ-Q3vCRlrm",
        "outputId": "d228b209-faeb-4c69-eada-eb3e6e1bef3b"
      },
      "source": [
        "%cd \"/content/drive/MyDrive/NNFL/Assignment 2\"\n",
        "!ls"
      ],
      "execution_count": 14,
      "outputs": [
        {
          "output_type": "stream",
          "text": [
            "/content/drive/.shortcut-targets-by-id/104/Assignment 2\n",
            "assignment2.pdf  data55.xlsx  input_a2.mat  label.mat\n",
            "class_label.mat  data5.mat    input.mat\n"
          ],
          "name": "stdout"
        }
      ]
    },
    {
      "cell_type": "code",
      "metadata": {
        "id": "h7TxzwiNQZrh"
      },
      "source": [
        "import keras \n",
        "import tensorflow as tf\n",
        "import sklearn\n",
        "import numpy as np\n",
        "import pandas as pd\n",
        "import scipy.io as sio \n",
        "import matplotlib.pyplot as plt\n",
        "\n",
        "from sklearn import preprocessing\n",
        "from sklearn.metrics import classification_report,confusion_matrix\n",
        "from sklearn.model_selection import train_test_split\n",
        "from sklearn import preprocessing\n",
        "from keras.models import Sequential,Model\n",
        "from keras.layers import Input, Dense, Activation, Flatten, Conv1D, Dropout,MaxPooling1D,MaxPool1D\n",
        "from keras.optimizers import SGD,Adam\n",
        "from keras.utils import np_utils\n",
        "from sklearn.utils import shuffle\n",
        "from scipy.io import loadmat"
      ],
      "execution_count": 15,
      "outputs": []
    },
    {
      "cell_type": "code",
      "metadata": {
        "id": "LAH7TQqmRekp"
      },
      "source": [
        "X_=loadmat('input.mat')\n",
        "X_=pd.DataFrame(X_[\"x\"])\n",
        "X_=(np.asarray(X_)).T\n",
        "\n",
        "Y_=loadmat('class_label.mat') #importing and loading the data\n",
        "datay=np.asarray(Y_[\"y\"])"
      ],
      "execution_count": 16,
      "outputs": []
    },
    {
      "cell_type": "code",
      "metadata": {
        "id": "U58_7LfASaHX"
      },
      "source": [
        "X=[]\n",
        "for i in range(len(X_)):\n",
        "  X.append(X_[i][0])\n",
        "X=np.asarray(X)\n",
        "X=X.transpose(0,2,1)\n",
        "for i in range(len(X)):\n",
        "  X[i]=preprocessing.normalize(X[i])\n",
        "\n",
        "y=[]\n",
        "for i in range(len(datay)):\n",
        "  y.append(datay[i][0]-1)\n",
        "y=np.asarray(y)\n",
        "\n",
        "train_X,test_X,train_y,test_y=train_test_split(X,y,test_size=2/10,train_size=8/10,random_state=0)\n",
        "train_X,valid_X,train_y,valid_y=train_test_split(train_X,train_y,test_size=1/8,train_size=7/8,random_state=0)"
      ],
      "execution_count": 17,
      "outputs": []
    },
    {
      "cell_type": "code",
      "metadata": {
        "colab": {
          "base_uri": "https://localhost:8080/"
        },
        "id": "19XkV6u5RzUK",
        "outputId": "87fc1024-725d-4fad-b6f0-4de5d40a6b8c"
      },
      "source": [
        "model = Sequential()\n",
        "model.add(Conv1D(kernel_size=7, filters=20, input_shape=(800,12)))\n",
        "model.add(MaxPooling1D(pool_size=3, strides=3))\n",
        "model.add(Activation(\"relu\"))\n",
        "model.add(Conv1D(kernel_size=7,filters=60))\n",
        "model.add(MaxPooling1D(pool_size=3,strides=3))\n",
        "model.add(Activation(\"relu\"))\n",
        "model.add(Dropout(0.7))\n",
        "model.add(Conv1D(filters=120,kernel_size=7))\n",
        "model.add(Conv1D(filters=120,kernel_size=7))\n",
        "model.add(Flatten())\n",
        "model.add(Dense(2000,activation=\"relu\"))\n",
        "model.add(Dense(700))\n",
        "model.add(Dense(50))\n",
        "model.add(Dense(7,activation=\"sigmoid\"))\n",
        "\n",
        "\n",
        "model.compile(loss='sparse_categorical_crossentropy', optimizer='adam', metrics=['accuracy'])\n",
        "history=model.fit(train_X, train_y, epochs=10, batch_size=1000,validation_data=(valid_X,valid_y))\n",
        "print(history)\n",
        "\n",
        "print(\"Accuracy is\",model.evaluate(test_X,test_y))"
      ],
      "execution_count": 18,
      "outputs": [
        {
          "output_type": "stream",
          "text": [
            "Epoch 1/10\n",
            "13/13 [==============================] - 55s 4s/step - loss: 1.9912 - accuracy: 0.1631 - val_loss: 1.7896 - val_accuracy: 0.1358\n",
            "Epoch 2/10\n",
            "13/13 [==============================] - 56s 4s/step - loss: 1.7305 - accuracy: 0.1285 - val_loss: 1.6540 - val_accuracy: 0.1317\n",
            "Epoch 3/10\n",
            "13/13 [==============================] - 57s 4s/step - loss: 1.6331 - accuracy: 0.1193 - val_loss: 1.5877 - val_accuracy: 0.1445\n",
            "Epoch 4/10\n",
            "13/13 [==============================] - 59s 5s/step - loss: 1.5708 - accuracy: 0.1653 - val_loss: 1.5657 - val_accuracy: 0.1818\n",
            "Epoch 5/10\n",
            "13/13 [==============================] - 58s 4s/step - loss: 1.5271 - accuracy: 0.1250 - val_loss: 1.3419 - val_accuracy: 0.1107\n",
            "Epoch 6/10\n",
            "13/13 [==============================] - 57s 4s/step - loss: 1.2505 - accuracy: 0.1132 - val_loss: 1.1941 - val_accuracy: 0.2133\n",
            "Epoch 7/10\n",
            "13/13 [==============================] - 57s 4s/step - loss: 1.1500 - accuracy: 0.1756 - val_loss: 1.0748 - val_accuracy: 0.1148\n",
            "Epoch 8/10\n",
            "13/13 [==============================] - 57s 4s/step - loss: 1.0683 - accuracy: 0.1274 - val_loss: 1.0410 - val_accuracy: 0.1772\n",
            "Epoch 9/10\n",
            "13/13 [==============================] - 57s 4s/step - loss: 1.0366 - accuracy: 0.1722 - val_loss: 1.0236 - val_accuracy: 0.1509\n",
            "Epoch 10/10\n",
            "13/13 [==============================] - 57s 4s/step - loss: 1.0263 - accuracy: 0.1554 - val_loss: 1.0189 - val_accuracy: 0.1655\n",
            "<tensorflow.python.keras.callbacks.History object at 0x7ff13ae625f8>\n",
            "108/108 [==============================] - 7s 68ms/step - loss: 1.0179 - accuracy: 0.1495\n",
            "Accuracy is [1.017910361289978, 0.14947552978992462]\n"
          ],
          "name": "stdout"
        }
      ]
    }
  ]
}