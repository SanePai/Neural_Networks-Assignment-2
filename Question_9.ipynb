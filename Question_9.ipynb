{
  "nbformat": 4,
  "nbformat_minor": 0,
  "metadata": {
    "colab": {
      "name": "Question 9.ipynb",
      "provenance": [],
      "collapsed_sections": [],
      "mount_file_id": "14tTwDSByQLD_rn_vuRs80LnxSdkKjzgX",
      "authorship_tag": "ABX9TyNQMOr9aFgPzz0nFC60gbxO",
      "include_colab_link": true
    },
    "kernelspec": {
      "name": "python3",
      "display_name": "Python 3"
    },
    "accelerator": "GPU"
  },
  "cells": [
    {
      "cell_type": "markdown",
      "metadata": {
        "id": "view-in-github",
        "colab_type": "text"
      },
      "source": [
        "<a href=\"https://colab.research.google.com/github/SanePai/Neural_Networks-Assignment-2/blob/main/Question_9.ipynb\" target=\"_parent\"><img src=\"https://colab.research.google.com/assets/colab-badge.svg\" alt=\"Open In Colab\"/></a>"
      ]
    },
    {
      "cell_type": "code",
      "metadata": {
        "colab": {
          "base_uri": "https://localhost:8080/"
        },
        "id": "eVZ-Q3vCRlrm",
        "outputId": "6b43c248-d7e9-496a-dfab-37bd5b1df141"
      },
      "source": [
        "%cd \"/content/drive/MyDrive/NNFL/Assignment 2\"\n",
        "!ls"
      ],
      "execution_count": 9,
      "outputs": [
        {
          "output_type": "stream",
          "text": [
            "/content/drive/.shortcut-targets-by-id/104/Assignment 2\n",
            "assignment2.pdf  data55.xlsx  input_a2.mat  label.mat\n",
            "class_label.mat  data5.mat    input.mat\n"
          ],
          "name": "stdout"
        }
      ]
    },
    {
      "cell_type": "code",
      "metadata": {
        "id": "h7TxzwiNQZrh"
      },
      "source": [
        "import keras \n",
        "import tensorflow as tf\n",
        "import sklearn\n",
        "import numpy as np\n",
        "import pandas as pd\n",
        "import scipy.io as sio \n",
        "import matplotlib.pyplot as plt\n",
        "\n",
        "from sklearn import preprocessing\n",
        "from sklearn.metrics import classification_report,confusion_matrix\n",
        "from sklearn.model_selection import train_test_split\n",
        "from sklearn import preprocessing\n",
        "from keras.models import Sequential,Model\n",
        "from keras.layers import Input, Dense, Activation, Flatten, Conv1D, Dropout,MaxPooling1D,MaxPool1D\n",
        "from keras.optimizers import SGD,Adam\n",
        "from keras.utils import np_utils\n",
        "from sklearn.utils import shuffle\n",
        "from scipy.io import loadmat"
      ],
      "execution_count": 10,
      "outputs": []
    },
    {
      "cell_type": "code",
      "metadata": {
        "id": "LAH7TQqmRekp"
      },
      "source": [
        "X_=loadmat('input.mat')\n",
        "X_=pd.DataFrame(X_[\"x\"])\n",
        "X_=(np.asarray(X_)).T\n",
        "\n",
        "Y_=loadmat('class_label.mat') #importing and loading the data\n",
        "datay=np.asarray(Y_[\"y\"])"
      ],
      "execution_count": 11,
      "outputs": []
    },
    {
      "cell_type": "code",
      "metadata": {
        "id": "U58_7LfASaHX"
      },
      "source": [
        "X=[]\n",
        "for i in range(len(X_)):\n",
        "  X.append(X_[i][0])\n",
        "X=np.asarray(X)\n",
        "X=X.transpose(0,2,1)\n",
        "for i in range(len(X)):\n",
        "  X[i]=preprocessing.normalize(X[i])\n",
        "\n",
        "y=[]\n",
        "for i in range(len(datay)):\n",
        "  y.append(datay[i][0]-1)\n",
        "y=np.asarray(y)\n",
        "\n",
        "train_X,test_X,train_y,test_y=train_test_split(X,y,test_size=2/10,train_size=8/10,random_state=0)\n",
        "train_X,valid_X,train_y,valid_y=train_test_split(train_X,train_y,test_size=1/8,train_size=7/8,random_state=0)"
      ],
      "execution_count": 12,
      "outputs": []
    },
    {
      "cell_type": "code",
      "metadata": {
        "colab": {
          "base_uri": "https://localhost:8080/"
        },
        "id": "19XkV6u5RzUK",
        "outputId": "8a7ff1ba-13e2-4f55-ec46-31735f3f57f2"
      },
      "source": [
        "model = Sequential()\n",
        "model.add(Conv1D(kernel_size=7, filters=20, input_shape=(800,12)))\n",
        "model.add(MaxPooling1D(pool_size=3, strides=3))\n",
        "model.add(Activation(\"relu\"))\n",
        "model.add(Conv1D(kernel_size=7,filters=60))\n",
        "model.add(MaxPooling1D(pool_size=3,strides=3))\n",
        "model.add(Activation(\"relu\"))\n",
        "model.add(Dropout(0.7))\n",
        "model.add(Conv1D(filters=120,kernel_size=7))\n",
        "model.add(Conv1D(filters=120,kernel_size=7))\n",
        "model.add(Flatten())\n",
        "model.add(Dense(2000,activation=\"relu\"))\n",
        "model.add(Dense(700))\n",
        "model.add(Dense(50))\n",
        "model.add(Dense(7,activation=\"sigmoid\"))\n",
        "\n",
        "\n",
        "model.compile(loss='sparse_categorical_crossentropy', optimizer='adam', metrics=['accuracy'])\n",
        "history=model.fit(train_X, train_y, epochs=10, batch_size=1000,validation_data=(valid_X,valid_y),)\n",
        "print(history)\n",
        "loss, acc = model.evaluate(test_X,test_y)\n",
        "# model.metrics_names"
      ],
      "execution_count": 13,
      "outputs": [
        {
          "output_type": "stream",
          "text": [
            "Epoch 1/10\n",
            " 2/13 [===>..........................] - ETA: 1s - loss: 2.5766 - accuracy: 0.1450WARNING:tensorflow:Callbacks method `on_train_batch_end` is slow compared to the batch time (batch time: 0.0500s vs `on_train_batch_end` time: 0.0824s). Check your callbacks.\n",
            "13/13 [==============================] - 1s 113ms/step - loss: 1.9369 - accuracy: 0.2782 - val_loss: 1.7164 - val_accuracy: 0.2675\n",
            "Epoch 2/10\n",
            "13/13 [==============================] - 1s 93ms/step - loss: 1.4843 - accuracy: 0.3161 - val_loss: 1.3474 - val_accuracy: 0.3135\n",
            "Epoch 3/10\n",
            "13/13 [==============================] - 1s 93ms/step - loss: 1.2326 - accuracy: 0.3482 - val_loss: 1.0860 - val_accuracy: 0.4283\n",
            "Epoch 4/10\n",
            "13/13 [==============================] - 1s 95ms/step - loss: 1.0536 - accuracy: 0.4480 - val_loss: 0.8172 - val_accuracy: 0.5705\n",
            "Epoch 5/10\n",
            "13/13 [==============================] - 1s 93ms/step - loss: 0.6859 - accuracy: 0.6308 - val_loss: 0.7639 - val_accuracy: 0.7197\n",
            "Epoch 6/10\n",
            "13/13 [==============================] - 1s 95ms/step - loss: 0.5568 - accuracy: 0.7861 - val_loss: 0.2644 - val_accuracy: 0.8357\n",
            "Epoch 7/10\n",
            "13/13 [==============================] - 1s 93ms/step - loss: 0.1846 - accuracy: 0.9053 - val_loss: 0.0585 - val_accuracy: 0.9569\n",
            "Epoch 8/10\n",
            "13/13 [==============================] - 1s 93ms/step - loss: 0.0467 - accuracy: 0.9756 - val_loss: 0.0158 - val_accuracy: 0.9994\n",
            "Epoch 9/10\n",
            "13/13 [==============================] - 1s 93ms/step - loss: 0.0091 - accuracy: 0.9982 - val_loss: 2.8325e-04 - val_accuracy: 1.0000\n",
            "Epoch 10/10\n",
            "13/13 [==============================] - 1s 93ms/step - loss: 0.0013 - accuracy: 1.0000 - val_loss: 8.0427e-05 - val_accuracy: 1.0000\n",
            "<tensorflow.python.keras.callbacks.History object at 0x7efde2fa77b8>\n",
            "108/108 [==============================] - 0s 3ms/step - loss: 1.0572e-04 - accuracy: 1.0000\n"
          ],
          "name": "stdout"
        }
      ]
    },
    {
      "cell_type": "code",
      "metadata": {
        "colab": {
          "base_uri": "https://localhost:8080/"
        },
        "id": "HXMBnkNWKren",
        "outputId": "b7692ca1-c0ab-46d4-b7bf-34893345858a"
      },
      "source": [
        "print(f'Accuarcy: {acc*100}%')\n",
        "print(f'Loss: {loss}')"
      ],
      "execution_count": 14,
      "outputs": [
        {
          "output_type": "stream",
          "text": [
            "Accuarcy: 100.0%\n",
            "Loss: 0.00010571632446954027\n"
          ],
          "name": "stdout"
        }
      ]
    }
  ]
}