{
  "nbformat": 4,
  "nbformat_minor": 0,
  "metadata": {
    "colab": {
      "name": "Question 9.ipynb",
      "provenance": [],
      "collapsed_sections": [],
      "mount_file_id": "14tTwDSByQLD_rn_vuRs80LnxSdkKjzgX",
      "authorship_tag": "ABX9TyPlKhOQ1653xN+3NHstR+3S",
      "include_colab_link": true
    },
    "kernelspec": {
      "name": "python3",
      "display_name": "Python 3"
    },
    "accelerator": "GPU"
  },
  "cells": [
    {
      "cell_type": "markdown",
      "metadata": {
        "id": "view-in-github",
        "colab_type": "text"
      },
      "source": [
        "<a href=\"https://colab.research.google.com/github/SanePai/Neural_Networks-Assignment-2/blob/main/Question_9.ipynb\" target=\"_parent\"><img src=\"https://colab.research.google.com/assets/colab-badge.svg\" alt=\"Open In Colab\"/></a>"
      ]
    },
    {
      "cell_type": "code",
      "metadata": {
        "id": "gBtkmAIPXhZI"
      },
      "source": [
        "import warnings\n",
        "warnings.filterwarnings(\"ignore\")"
      ],
      "execution_count": 8,
      "outputs": []
    },
    {
      "cell_type": "code",
      "metadata": {
        "colab": {
          "base_uri": "https://localhost:8080/"
        },
        "id": "eVZ-Q3vCRlrm",
        "outputId": "60002abd-790c-4b85-e83c-99bfed3b86d4"
      },
      "source": [
        "%cd \"/content/drive/MyDrive/NNFL/Assignment 2\"\n",
        "!ls"
      ],
      "execution_count": 9,
      "outputs": [
        {
          "output_type": "stream",
          "text": [
            "/content/drive/.shortcut-targets-by-id/104/Assignment 2\n",
            "assignment2.pdf  class2_images\tclass_label.mat  data5.mat     input.mat\n",
            "class1_images\t class3_images\tdata55.xlsx\t input_a2.mat  label.mat\n"
          ],
          "name": "stdout"
        }
      ]
    },
    {
      "cell_type": "code",
      "metadata": {
        "id": "h7TxzwiNQZrh"
      },
      "source": [
        "import keras \n",
        "import tensorflow as tf\n",
        "import sklearn\n",
        "import numpy as np\n",
        "import pandas as pd\n",
        "import scipy.io as sio \n",
        "import matplotlib.pyplot as plt\n",
        "\n",
        "from sklearn import preprocessing\n",
        "from sklearn.metrics import classification_report,confusion_matrix\n",
        "from sklearn.model_selection import train_test_split\n",
        "from sklearn import preprocessing\n",
        "from keras.models import Sequential,Model\n",
        "from keras.layers import Input, Dense, Activation, Flatten, Conv1D, Dropout,MaxPooling1D,MaxPool1D\n",
        "from keras.optimizers import SGD,Adam\n",
        "from keras.utils import np_utils\n",
        "from sklearn.utils import shuffle\n",
        "from scipy.io import loadmat"
      ],
      "execution_count": 10,
      "outputs": []
    },
    {
      "cell_type": "code",
      "metadata": {
        "id": "LAH7TQqmRekp"
      },
      "source": [
        "X_=loadmat('input.mat')\n",
        "X_=pd.DataFrame(X_[\"x\"])\n",
        "X_=(np.asarray(X_)).T\n",
        "\n",
        "Y_=loadmat('class_label.mat') #importing and loading the data\n",
        "datay=np.asarray(Y_[\"y\"])"
      ],
      "execution_count": 11,
      "outputs": []
    },
    {
      "cell_type": "code",
      "metadata": {
        "id": "U58_7LfASaHX"
      },
      "source": [
        "X=[]\n",
        "for i in range(len(X_)):\n",
        "  X.append(X_[i][0])\n",
        "X=np.asarray(X)\n",
        "X=X.transpose(0,2,1)\n",
        "for i in range(len(X)):\n",
        "  X[i]=preprocessing.normalize(X[i])\n",
        "\n",
        "y=[]\n",
        "for i in range(len(datay)):\n",
        "  y.append(datay[i][0]-1)\n",
        "y=np.asarray(y)\n",
        "\n",
        "train_X,test_X,train_y,test_y=train_test_split(X,y,test_size=2/10,train_size=8/10,random_state=0)\n",
        "train_X,valid_X,train_y,valid_y=train_test_split(train_X,train_y,test_size=1/8,train_size=7/8,random_state=0)"
      ],
      "execution_count": 12,
      "outputs": []
    },
    {
      "cell_type": "code",
      "metadata": {
        "colab": {
          "base_uri": "https://localhost:8080/"
        },
        "id": "19XkV6u5RzUK",
        "outputId": "de23a788-5b39-4955-e712-90ba6f27bf80"
      },
      "source": [
        "model = Sequential()\n",
        "model.add(Conv1D(kernel_size=7, filters=20, input_shape=(800,12)))\n",
        "model.add(MaxPooling1D(pool_size=3, strides=3))\n",
        "model.add(Activation(\"relu\"))\n",
        "model.add(Conv1D(kernel_size=7,filters=60))\n",
        "model.add(MaxPooling1D(pool_size=3,strides=3))\n",
        "model.add(Activation(\"relu\"))\n",
        "model.add(Dropout(0.7))\n",
        "model.add(Conv1D(filters=120,kernel_size=7))\n",
        "model.add(Conv1D(filters=120,kernel_size=7))\n",
        "model.add(Flatten())\n",
        "model.add(Dense(2000,activation=\"relu\"))\n",
        "model.add(Dense(700))\n",
        "model.add(Dense(50))\n",
        "model.add(Dense(7,activation=\"sigmoid\"))\n",
        "\n",
        "\n",
        "model.compile(loss='sparse_categorical_crossentropy', optimizer='adam', metrics=['accuracy'])\n",
        "history=model.fit(train_X, train_y, epochs=10, batch_size=1000,validation_data=(valid_X,valid_y),)\n",
        "print(history)\n",
        "loss, acc = model.evaluate(test_X,test_y)\n",
        "# model.metrics_names"
      ],
      "execution_count": 13,
      "outputs": [
        {
          "output_type": "stream",
          "text": [
            "Epoch 1/10\n",
            "13/13 [==============================] - 1s 101ms/step - loss: 1.9435 - accuracy: 0.2685 - val_loss: 1.5160 - val_accuracy: 0.2121\n",
            "Epoch 2/10\n",
            "13/13 [==============================] - 1s 87ms/step - loss: 1.2610 - accuracy: 0.2664 - val_loss: 1.0643 - val_accuracy: 0.3613\n",
            "Epoch 3/10\n",
            "13/13 [==============================] - 1s 86ms/step - loss: 0.8839 - accuracy: 0.4721 - val_loss: 0.5315 - val_accuracy: 0.6678\n",
            "Epoch 4/10\n",
            "13/13 [==============================] - 1s 87ms/step - loss: 0.3933 - accuracy: 0.7773 - val_loss: 0.1925 - val_accuracy: 0.8899\n",
            "Epoch 5/10\n",
            "13/13 [==============================] - 1s 85ms/step - loss: 0.1486 - accuracy: 0.9160 - val_loss: 0.0982 - val_accuracy: 0.9207\n",
            "Epoch 6/10\n",
            "13/13 [==============================] - 1s 87ms/step - loss: 0.1314 - accuracy: 0.9164 - val_loss: 0.0868 - val_accuracy: 0.9307\n",
            "Epoch 7/10\n",
            "13/13 [==============================] - 1s 86ms/step - loss: 0.1266 - accuracy: 0.9508 - val_loss: 0.0448 - val_accuracy: 0.9883\n",
            "Epoch 8/10\n",
            "13/13 [==============================] - 1s 86ms/step - loss: 0.0420 - accuracy: 0.9848 - val_loss: 0.0274 - val_accuracy: 0.9883\n",
            "Epoch 9/10\n",
            "13/13 [==============================] - 1s 87ms/step - loss: 0.0317 - accuracy: 0.9832 - val_loss: 0.0274 - val_accuracy: 0.9819\n",
            "Epoch 10/10\n",
            "13/13 [==============================] - 1s 86ms/step - loss: 0.0252 - accuracy: 0.9889 - val_loss: 0.0194 - val_accuracy: 0.9983\n",
            "<tensorflow.python.keras.callbacks.History object at 0x7feede34c898>\n",
            "108/108 [==============================] - 0s 3ms/step - loss: 0.0180 - accuracy: 0.9988\n"
          ],
          "name": "stdout"
        }
      ]
    },
    {
      "cell_type": "code",
      "metadata": {
        "colab": {
          "base_uri": "https://localhost:8080/"
        },
        "id": "HXMBnkNWKren",
        "outputId": "7c396972-bb2d-4ebc-9dc0-c4330d223c11"
      },
      "source": [
        "print(f'Accuarcy: {acc*100}%')\n",
        "print(f'Loss: {loss}')"
      ],
      "execution_count": 14,
      "outputs": [
        {
          "output_type": "stream",
          "text": [
            "Accuarcy: 99.8834490776062%\n",
            "Loss: 0.017987040802836418\n"
          ],
          "name": "stdout"
        }
      ]
    }
  ]
}