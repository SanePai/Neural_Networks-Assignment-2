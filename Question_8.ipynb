{
  "nbformat": 4,
  "nbformat_minor": 0,
  "metadata": {
    "colab": {
      "name": "Question 8.ipynb",
      "provenance": [],
      "collapsed_sections": [],
      "mount_file_id": "1xikDXKhlLl4af98SmGWufKWmWJSw6XxJ",
      "authorship_tag": "ABX9TyMGxsRpWZTt2Upye8T9HMOM",
      "include_colab_link": true
    },
    "kernelspec": {
      "name": "python3",
      "display_name": "Python 3"
    },
    "accelerator": "GPU"
  },
  "cells": [
    {
      "cell_type": "markdown",
      "metadata": {
        "id": "view-in-github",
        "colab_type": "text"
      },
      "source": [
        "<a href=\"https://colab.research.google.com/github/SanePai/Neural_Networks-Assignment-2/blob/main/Question_8.ipynb\" target=\"_parent\"><img src=\"https://colab.research.google.com/assets/colab-badge.svg\" alt=\"Open In Colab\"/></a>"
      ]
    },
    {
      "cell_type": "code",
      "metadata": {
        "id": "bLLk3dW68S4p"
      },
      "source": [
        "import warnings\n",
        "warnings.filterwarnings(\"ignore\")"
      ],
      "execution_count": null,
      "outputs": []
    },
    {
      "cell_type": "code",
      "metadata": {
        "id": "54x2ktF6MH5i",
        "colab": {
          "base_uri": "https://localhost:8080/"
        },
        "outputId": "3cc60657-e138-41e5-ac71-0bda28786cd7"
      },
      "source": [
        "%cd \"/content/drive/MyDrive/NNFL/Assignment 2\"\n",
        "!ls"
      ],
      "execution_count": null,
      "outputs": [
        {
          "output_type": "stream",
          "text": [
            "/content/drive/.shortcut-targets-by-id/104/Assignment 2\n",
            "assignment2.pdf  class2_images\tclass_label.mat  data5.mat     input.mat\n",
            "class1_images\t class3_images\tdata55.xlsx\t input_a2.mat  label.mat\n"
          ],
          "name": "stdout"
        }
      ]
    },
    {
      "cell_type": "code",
      "metadata": {
        "id": "BDZMB8MysEI_"
      },
      "source": [
        "import numpy as np\n",
        "import pandas as pd\n",
        "from scipy.io import loadmat\n",
        "import scipy.io\n",
        "from sklearn.preprocessing import normalize\n",
        "import random as rnd\n",
        "from __future__ import division, print_function\n",
        "from sklearn.metrics import confusion_matrix as cm"
      ],
      "execution_count": null,
      "outputs": []
    },
    {
      "cell_type": "code",
      "metadata": {
        "id": "qo-sI7OHMRwu"
      },
      "source": [
        "mat = scipy.io.loadmat('data5.mat')\n",
        "x = mat['x']\n",
        "x = np.asarray(x)\n",
        "np.random.shuffle(x)\n",
        "x.shape\n",
        "\n",
        "len = x.shape[0]\n",
        "m_train = int(0.7 * len)\n",
        "m_val = int((0.1 * len) + 1)\n",
        "m_test = int((0.2 * len) + 1)\n",
        "\n",
        "train_data = x[0:m_train,:]\n",
        "val_data = x[m_train+1:m_train+1+m_val,:]\n",
        "test_data = x[m_train+m_val+1:,:]\n",
        "\n",
        "x_train = train_data[:,0:72]\n",
        "y_train = train_data[:,-1]\n",
        "x_val = val_data[:,0:72]\n",
        "y_val = val_data[:,-1]\n",
        "x_test = test_data[:,0:72]\n",
        "y_test = test_data[:,-1]\n",
        "\n",
        "for i in range(y_train.shape[0]):\n",
        "  y_train[i] = int(y_train[i])\n",
        "  if int(y_train[i]) == 0:\n",
        "    y_train[i] = -1\n",
        "for i in range(y_val.shape[0]):\n",
        "  y_val[i] = int(y_val[i])\n",
        "  if int(y_val[i]) == 0:\n",
        "    y_val[i] = -1\n",
        "for i in range(y_test.shape[0]):\n",
        "  y_test[i] = int(y_test[i])\n",
        "  if int(y_test[i]) == 0:\n",
        "    y_test[i] = -1"
      ],
      "execution_count": null,
      "outputs": []
    },
    {
      "cell_type": "code",
      "metadata": {
        "id": "DCwi7w10-3gT"
      },
      "source": [
        "mat = scipy.io.loadmat('data5.mat')\n",
        "data = mat['x']\n",
        "#transform to numpy array\n",
        "data = np.asarray(data)\n",
        "#shuffling the data for random choices\n",
        "np.random.shuffle(data)"
      ],
      "execution_count": null,
      "outputs": []
    },
    {
      "cell_type": "code",
      "metadata": {
        "id": "LS8G-DbP-llO"
      },
      "source": [
        "class SVM():\n",
        "    def __init__(self, max_iter=5000, kernel_type='linear', C=1.0, epsilon=0.001):\n",
        "        self.kernels = {\n",
        "            'linear' : self.kernel_linear,\n",
        "            'quadratic' : self.kernel_quadratic\n",
        "        }\n",
        "        self.max_iter = max_iter\n",
        "        self.kernel_type = kernel_type\n",
        "        self.C = C\n",
        "        self.epsilon = epsilon\n",
        "    def fit(self, X, y):\n",
        "        n, d = X.shape[0], X.shape[1]\n",
        "        alpha = np.zeros((n))\n",
        "        kernel = self.kernels[self.kernel_type]\n",
        "        count = 0\n",
        "        while True:\n",
        "            count += 1\n",
        "            alpha_prev = np.copy(alpha)\n",
        "            for j in range(0, n):\n",
        "                i = self.get_rnd_int(0, n-1, j) \n",
        "                x_i, x_j, y_i, y_j = X[i,:], X[j,:], y[i], y[j]\n",
        "                k_ij = kernel(x_i, x_i) + kernel(x_j, x_j) - 2 * kernel(x_i, x_j)\n",
        "                if k_ij == 0:\n",
        "                    continue\n",
        "                alpha_prime_j, alpha_prime_i = alpha[j], alpha[i]\n",
        "                (L, H) = self.compute_L_H(self.C, alpha_prime_j, alpha_prime_i, y_j, y_i)\n",
        "\n",
        "                self.w = self.calc_w(alpha, y, X)\n",
        "                self.b = self.calc_b(X, y, self.w)\n",
        "\n",
        "                E_i = self.E(x_i, y_i, self.w, self.b)\n",
        "                E_j = self.E(x_j, y_j, self.w, self.b)\n",
        "\n",
        "                alpha[j] = alpha_prime_j + float(y_j * (E_i - E_j))/k_ij\n",
        "                alpha[j] = max(alpha[j], L)\n",
        "                alpha[j] = min(alpha[j], H)\n",
        "\n",
        "                alpha[i] = alpha_prime_i + y_i*y_j * (alpha_prime_j - alpha[j])\n",
        "\n",
        "            diff = np.linalg.norm(alpha - alpha_prev)\n",
        "            if diff < self.epsilon:\n",
        "                break\n",
        "\n",
        "            if count >= self.max_iter:\n",
        "                return\n",
        "\n",
        "        self.b = self.calc_b(X, y, self.w)\n",
        "        if self.kernel_type == 'linear':\n",
        "            self.w = self.calc_w(alpha, y, X)\n",
        "\n",
        "        alpha_idx = np.where(alpha > 0)[0]\n",
        "        support_vectors = X[alpha_idx, :]\n",
        "        return support_vectors, count\n",
        "    def predict(self, X):\n",
        "        return self.h(X, self.w, self.b)\n",
        "    def calc_b(self, X, y, w):\n",
        "        b_tmp = y - np.dot(w.T, X.T)\n",
        "        return np.mean(b_tmp)\n",
        "    def calc_w(self, alpha, y, X):\n",
        "        return np.dot(X.T, np.multiply(alpha,y))\n",
        "\n",
        "    def h(self, X, w, b):\n",
        "        return np.sign(np.dot(w.T, X.T) + b).astype(int)\n",
        "\n",
        "    def E(self, x_k, y_k, w, b):\n",
        "        return self.h(x_k, w, b) - y_k\n",
        "    def compute_L_H(self, C, alpha_prime_j, alpha_prime_i, y_j, y_i):\n",
        "        if(y_i != y_j):\n",
        "            return (max(0, alpha_prime_j - alpha_prime_i), min(C, C - alpha_prime_i + alpha_prime_j))\n",
        "        else:\n",
        "            return (max(0, alpha_prime_i + alpha_prime_j - C), min(C, alpha_prime_i + alpha_prime_j))\n",
        "    def get_rnd_int(self, a,b,z):\n",
        "        i = z\n",
        "        cnt=0\n",
        "        while i == z and cnt<1000:\n",
        "            i = rnd.randint(a,b)\n",
        "            cnt=cnt+1\n",
        "        return i\n",
        "\n",
        "    def kernel_linear(self, x1, x2):\n",
        "        return np.dot(x1, x2.T)\n",
        "    def kernel_quadratic(self, x1, x2):\n",
        "        return (np.dot(x1, x2.T) ** 2)"
      ],
      "execution_count": null,
      "outputs": []
    },
    {
      "cell_type": "code",
      "metadata": {
        "id": "Ol8hfd7N-pCU"
      },
      "source": [
        "def print_acc(y_pred,y_actual):\n",
        "    confmat = cm(y_actual, y_pred)\n",
        "    Accuracy = (confmat[0][0]+confmat[1][1])/ (np.shape(y_pred)[0])\n",
        "    Sensitivity = (confmat[1][1])/(confmat[1][0] + confmat[1][1])\n",
        "    Specificity = (confmat[0][0])/(confmat[0][0] + confmat[0][1])\n",
        "    print(\"Confusion Matrix:\")\n",
        "    print(confmat)\n",
        "    print(\"\\n\")\n",
        "    print(f\"Accuracy: {Accuracy*100}%\\nSensitivity: {Sensitivity}\\nSpecificity: {Specificity}\\n\")\n"
      ],
      "execution_count": null,
      "outputs": []
    },
    {
      "cell_type": "markdown",
      "metadata": {
        "id": "NTMwK6vzFplb"
      },
      "source": [
        "LINEAR"
      ]
    },
    {
      "cell_type": "code",
      "metadata": {
        "colab": {
          "base_uri": "https://localhost:8080/"
        },
        "id": "GMYN7VL7-qxM",
        "outputId": "83eaa5d3-d78b-4a17-be7e-90924ba3ad0a"
      },
      "source": [
        "svm = SVM()\n",
        "svm.fit(x_train,y_train)\n",
        "y_pred = svm.predict(x_test)\n",
        "\n",
        "print_acc(y_pred,y_test)"
      ],
      "execution_count": null,
      "outputs": [
        {
          "output_type": "stream",
          "text": [
            "Confusion Matrix:\n",
            "[[187  28]\n",
            " [ 32 182]]\n",
            "\n",
            "\n",
            "Accuracy: 86.01398601398601%\n",
            "Sensitivity: 0.8504672897196262\n",
            "Specificity: 0.8697674418604651\n",
            "\n"
          ],
          "name": "stdout"
        }
      ]
    }
  ]
}