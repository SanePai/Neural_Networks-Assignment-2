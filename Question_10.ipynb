{
  "nbformat": 4,
  "nbformat_minor": 0,
  "metadata": {
    "colab": {
      "name": "Question 10.ipynb",
      "provenance": [],
      "collapsed_sections": [],
      "mount_file_id": "16JzqgZeFmVldAc_oQof1VMnBm1il-z7O",
      "authorship_tag": "ABX9TyM6NGChlwXPvZg/fK2CXkd4",
      "include_colab_link": true
    },
    "kernelspec": {
      "name": "python3",
      "display_name": "Python 3"
    },
    "accelerator": "GPU"
  },
  "cells": [
    {
      "cell_type": "markdown",
      "metadata": {
        "id": "view-in-github",
        "colab_type": "text"
      },
      "source": [
        "<a href=\"https://colab.research.google.com/github/SanePai/Neural_Networks-Assignment-2/blob/main/Question_10.ipynb\" target=\"_parent\"><img src=\"https://colab.research.google.com/assets/colab-badge.svg\" alt=\"Open In Colab\"/></a>"
      ]
    },
    {
      "cell_type": "code",
      "metadata": {
        "id": "UtjJONgac_xi"
      },
      "source": [
        "import warnings\n",
        "warnings.filterwarnings(\"ignore\")"
      ],
      "execution_count": 15,
      "outputs": []
    },
    {
      "cell_type": "code",
      "metadata": {
        "id": "U8mrNefYNf9z"
      },
      "source": [
        "import os\n",
        "from PIL import Image\n",
        "import glob \n",
        "import PIL\n",
        "import keras \n",
        "import tensorflow as tf #importing tensorflow as backend\n",
        "import sklearn\n",
        "import numpy as np\n",
        "import pandas as pd\n",
        "import scipy.io as sio \n",
        "import matplotlib.pyplot as plt\n",
        "\n",
        "from sklearn.model_selection import KFold\n",
        "from sklearn import preprocessing\n",
        "from sklearn.metrics import classification_report,confusion_matrix\n",
        "from sklearn.model_selection import train_test_split\n",
        "\n",
        "from keras.models import Sequential,Model\n",
        "from keras.layers import Input, Dense, Activation, Flatten, Conv2D, Dropout,MaxPooling2D,MaxPool2D,BatchNormalization\n",
        "from keras.optimizers import SGD,Adam\n",
        "from keras.utils import np_utils\n",
        "from sklearn.utils import shuffle\n"
      ],
      "execution_count": 16,
      "outputs": []
    },
    {
      "cell_type": "code",
      "metadata": {
        "id": "LtK0wINrNiit"
      },
      "source": [
        "X=[]\n",
        "y=[]\n",
        "img_dir = \"/content/drive/MyDrive/NNFL/Assignment 2/class1_images/class1_images/\"\n",
        "data_path = os.path.join(img_dir,'*g') \n",
        "files = glob.glob(data_path) \n",
        "for f1 in files:\n",
        "  X.append(np.asarray((Image.open(f1)).resize((128,128))))\n",
        "  y.append(0)\n",
        "img_dir = \"/content/drive/MyDrive/NNFL/Assignment 2/class2_images/class2_images\"  \n",
        "data_path = os.path.join(img_dir,'*g') \n",
        "files = glob.glob(data_path) \n",
        "for f1 in files:\n",
        "  X.append(np.asarray((Image.open(f1)).resize((128,128))))\n",
        "  y.append(1)\n",
        "img_dir = \"/content/drive/MyDrive/NNFL/Assignment 2/class3_images/class3_images\"  \n",
        "data_path = os.path.join(img_dir,'*g') \n",
        "files = glob.glob(data_path) \n",
        "for f1 in files:\n",
        "  X.append(np.asarray((Image.open(f1)).resize((128,128))))\n",
        "  y.append(2)"
      ],
      "execution_count": 17,
      "outputs": []
    },
    {
      "cell_type": "code",
      "metadata": {
        "id": "Kl6QlwfDNlh9"
      },
      "source": [
        "X=np.asarray(X)\n",
        "y=np.asarray(y)\n",
        "X=X/255.0"
      ],
      "execution_count": 18,
      "outputs": []
    },
    {
      "cell_type": "code",
      "metadata": {
        "id": "S_8Kf5kUNnmd"
      },
      "source": [
        "os.environ['TF_CPP_MIN_LOG_LEVEL'] = '3'\n",
        "train_X,test_X,train_y,test_y=train_test_split(X,y,test_size=0.2,train_size=0.8,random_state=0)\n",
        "train_X,valid_X,train_y,valid_y=train_test_split(train_X,train_y,test_size=1/8,train_size=7/8,random_state=0)"
      ],
      "execution_count": 19,
      "outputs": []
    },
    {
      "cell_type": "code",
      "metadata": {
        "id": "DX9gxsaGNqiV"
      },
      "source": [
        "def create_model():\n",
        "  model = Sequential()\n",
        "  model.add(Conv2D(filters = 8, kernel_size = (3,3), input_shape=(128, 128, 3), padding = \"same\"))\n",
        "  model.add(MaxPooling2D(pool_size=(2, 2), strides=(1, 1), padding='same'))\n",
        "  model.add(Activation('relu'))\n",
        "  \n",
        "  model.add(Conv2D(filters = 16, kernel_size = (3,3), padding = \"same\"))\n",
        "  model.add(MaxPooling2D(pool_size=(2, 2), strides=(1, 1), padding='same'))\n",
        "  \n",
        "  model.add(Conv2D(filters = 32, kernel_size = (3,3), padding = \"same\"))\n",
        "  model.add(MaxPooling2D(pool_size=(2, 2), strides=(3, 3), padding='same'))\n",
        "  #model.add(Activation('relu'))\n",
        "  \n",
        "  model.add(Conv2D(filters = 32, kernel_size = (3,3), padding = \"same\"))\n",
        "  model.add(Flatten())\n",
        "  \n",
        "  model.add(Dense(128))\n",
        "  model.add(Activation('relu'))\n",
        "  \n",
        "  model.add(Dense(64))\n",
        "  model.add(Dropout(0.3))\n",
        "  model.add(Activation('relu'))\n",
        "  \n",
        "  model.add(Dense(32))\n",
        "  model.add(Activation('relu'))\n",
        "  \n",
        "  model.add(Dense(16))\n",
        "  model.add(Dropout(0.3))\n",
        "  model.add(Activation('relu'))\n",
        "  \n",
        "  model.add(Dense(3))\n",
        "  model.add(Activation('softmax'))\n",
        "  return model\n"
      ],
      "execution_count": 20,
      "outputs": []
    },
    {
      "cell_type": "code",
      "metadata": {
        "id": "mPGAYQpcNsXV",
        "colab": {
          "base_uri": "https://localhost:8080/"
        },
        "outputId": "a440847f-2c4c-48f3-da8e-d01034321dba"
      },
      "source": [
        "modelf=create_model()\n",
        "modelf.summary()"
      ],
      "execution_count": 21,
      "outputs": [
        {
          "output_type": "stream",
          "text": [
            "Model: \"sequential_5\"\n",
            "_________________________________________________________________\n",
            "Layer (type)                 Output Shape              Param #   \n",
            "=================================================================\n",
            "conv2d_20 (Conv2D)           (None, 128, 128, 8)       224       \n",
            "_________________________________________________________________\n",
            "max_pooling2d_15 (MaxPooling (None, 128, 128, 8)       0         \n",
            "_________________________________________________________________\n",
            "activation_30 (Activation)   (None, 128, 128, 8)       0         \n",
            "_________________________________________________________________\n",
            "conv2d_21 (Conv2D)           (None, 128, 128, 16)      1168      \n",
            "_________________________________________________________________\n",
            "max_pooling2d_16 (MaxPooling (None, 128, 128, 16)      0         \n",
            "_________________________________________________________________\n",
            "conv2d_22 (Conv2D)           (None, 128, 128, 32)      4640      \n",
            "_________________________________________________________________\n",
            "max_pooling2d_17 (MaxPooling (None, 43, 43, 32)        0         \n",
            "_________________________________________________________________\n",
            "conv2d_23 (Conv2D)           (None, 43, 43, 32)        9248      \n",
            "_________________________________________________________________\n",
            "flatten_5 (Flatten)          (None, 59168)             0         \n",
            "_________________________________________________________________\n",
            "dense_25 (Dense)             (None, 128)               7573632   \n",
            "_________________________________________________________________\n",
            "activation_31 (Activation)   (None, 128)               0         \n",
            "_________________________________________________________________\n",
            "dense_26 (Dense)             (None, 64)                8256      \n",
            "_________________________________________________________________\n",
            "dropout_10 (Dropout)         (None, 64)                0         \n",
            "_________________________________________________________________\n",
            "activation_32 (Activation)   (None, 64)                0         \n",
            "_________________________________________________________________\n",
            "dense_27 (Dense)             (None, 32)                2080      \n",
            "_________________________________________________________________\n",
            "activation_33 (Activation)   (None, 32)                0         \n",
            "_________________________________________________________________\n",
            "dense_28 (Dense)             (None, 16)                528       \n",
            "_________________________________________________________________\n",
            "dropout_11 (Dropout)         (None, 16)                0         \n",
            "_________________________________________________________________\n",
            "activation_34 (Activation)   (None, 16)                0         \n",
            "_________________________________________________________________\n",
            "dense_29 (Dense)             (None, 3)                 51        \n",
            "_________________________________________________________________\n",
            "activation_35 (Activation)   (None, 3)                 0         \n",
            "=================================================================\n",
            "Total params: 7,599,827\n",
            "Trainable params: 7,599,827\n",
            "Non-trainable params: 0\n",
            "_________________________________________________________________\n"
          ],
          "name": "stdout"
        }
      ]
    },
    {
      "cell_type": "code",
      "metadata": {
        "id": "JVM4bNyCNt2n",
        "colab": {
          "base_uri": "https://localhost:8080/"
        },
        "outputId": "62d04280-2e28-4dc1-c172-d49370e430e9"
      },
      "source": [
        "modelf.compile(loss='sparse_categorical_crossentropy', optimizer='sgd', metrics=['accuracy'])\n",
        "history=modelf.fit(train_X, train_y, epochs=30, batch_size=15,validation_data=(valid_X,valid_y))\n",
        "print(history)"
      ],
      "execution_count": 22,
      "outputs": [
        {
          "output_type": "stream",
          "text": [
            "Train on 504 samples, validate on 72 samples\n",
            "Epoch 1/30\n",
            "504/504 [==============================] - 1s 1ms/sample - loss: 1.1042 - accuracy: 0.3671 - val_loss: 1.0979 - val_accuracy: 0.3056\n",
            "Epoch 2/30\n",
            "504/504 [==============================] - 0s 946us/sample - loss: 1.0994 - accuracy: 0.3413 - val_loss: 1.0963 - val_accuracy: 0.4167\n",
            "Epoch 3/30\n",
            "504/504 [==============================] - 0s 949us/sample - loss: 1.0979 - accuracy: 0.3413 - val_loss: 1.0967 - val_accuracy: 0.3056\n",
            "Epoch 4/30\n",
            "504/504 [==============================] - 1s 998us/sample - loss: 1.0987 - accuracy: 0.3571 - val_loss: 1.0959 - val_accuracy: 0.5139\n",
            "Epoch 5/30\n",
            "504/504 [==============================] - 1s 1ms/sample - loss: 1.0948 - accuracy: 0.3611 - val_loss: 1.0982 - val_accuracy: 0.3056\n",
            "Epoch 6/30\n",
            "504/504 [==============================] - 0s 952us/sample - loss: 1.0955 - accuracy: 0.3631 - val_loss: 1.0890 - val_accuracy: 0.6528\n",
            "Epoch 7/30\n",
            "504/504 [==============================] - 0s 976us/sample - loss: 1.0949 - accuracy: 0.3571 - val_loss: 1.0891 - val_accuracy: 0.6528\n",
            "Epoch 8/30\n",
            "504/504 [==============================] - 0s 960us/sample - loss: 1.0846 - accuracy: 0.4226 - val_loss: 1.0687 - val_accuracy: 0.6667\n",
            "Epoch 9/30\n",
            "504/504 [==============================] - 0s 960us/sample - loss: 1.0739 - accuracy: 0.4583 - val_loss: 1.0415 - val_accuracy: 0.6806\n",
            "Epoch 10/30\n",
            "504/504 [==============================] - 0s 987us/sample - loss: 1.0296 - accuracy: 0.5496 - val_loss: 0.9637 - val_accuracy: 0.6667\n",
            "Epoch 11/30\n",
            "504/504 [==============================] - 1s 999us/sample - loss: 0.8930 - accuracy: 0.6468 - val_loss: 0.6715 - val_accuracy: 0.7083\n",
            "Epoch 12/30\n",
            "504/504 [==============================] - 0s 974us/sample - loss: 0.8542 - accuracy: 0.6032 - val_loss: 1.1550 - val_accuracy: 0.3056\n",
            "Epoch 13/30\n",
            "504/504 [==============================] - 0s 967us/sample - loss: 0.9864 - accuracy: 0.5020 - val_loss: 0.5160 - val_accuracy: 0.9167\n",
            "Epoch 14/30\n",
            "504/504 [==============================] - 0s 982us/sample - loss: 0.8733 - accuracy: 0.6151 - val_loss: 0.4798 - val_accuracy: 0.9722\n",
            "Epoch 15/30\n",
            "504/504 [==============================] - 1s 1ms/sample - loss: 0.4455 - accuracy: 0.8730 - val_loss: 0.3018 - val_accuracy: 0.9861\n",
            "Epoch 16/30\n",
            "504/504 [==============================] - 0s 988us/sample - loss: 1.0367 - accuracy: 0.6448 - val_loss: 1.1250 - val_accuracy: 0.3056\n",
            "Epoch 17/30\n",
            "504/504 [==============================] - 1s 993us/sample - loss: 1.0615 - accuracy: 0.4206 - val_loss: 1.1702 - val_accuracy: 0.3056\n",
            "Epoch 18/30\n",
            "504/504 [==============================] - 0s 959us/sample - loss: 1.0252 - accuracy: 0.4782 - val_loss: 1.1236 - val_accuracy: 0.3056\n",
            "Epoch 19/30\n",
            "504/504 [==============================] - 0s 991us/sample - loss: 0.9912 - accuracy: 0.4762 - val_loss: 0.7235 - val_accuracy: 0.6667\n",
            "Epoch 20/30\n",
            "504/504 [==============================] - 0s 954us/sample - loss: 0.8155 - accuracy: 0.6349 - val_loss: 0.4021 - val_accuracy: 0.7500\n",
            "Epoch 21/30\n",
            "504/504 [==============================] - 0s 963us/sample - loss: 0.5182 - accuracy: 0.7897 - val_loss: 0.1884 - val_accuracy: 0.9722\n",
            "Epoch 22/30\n",
            "504/504 [==============================] - 0s 985us/sample - loss: 0.2530 - accuracy: 0.9147 - val_loss: 0.5737 - val_accuracy: 0.7083\n",
            "Epoch 23/30\n",
            "504/504 [==============================] - 1s 1ms/sample - loss: 0.7479 - accuracy: 0.6587 - val_loss: 0.2626 - val_accuracy: 0.9861\n",
            "Epoch 24/30\n",
            "504/504 [==============================] - 0s 954us/sample - loss: 0.2578 - accuracy: 0.9345 - val_loss: 0.4350 - val_accuracy: 0.8194\n",
            "Epoch 25/30\n",
            "504/504 [==============================] - 0s 975us/sample - loss: 0.1175 - accuracy: 0.9643 - val_loss: 0.0084 - val_accuracy: 1.0000\n",
            "Epoch 26/30\n",
            "504/504 [==============================] - 0s 956us/sample - loss: 0.0758 - accuracy: 0.9702 - val_loss: 0.0204 - val_accuracy: 1.0000\n",
            "Epoch 27/30\n",
            "504/504 [==============================] - 0s 969us/sample - loss: 0.0424 - accuracy: 0.9861 - val_loss: 0.0056 - val_accuracy: 1.0000\n",
            "Epoch 28/30\n",
            "504/504 [==============================] - 0s 965us/sample - loss: 0.0426 - accuracy: 0.9881 - val_loss: 0.0017 - val_accuracy: 1.0000\n",
            "Epoch 29/30\n",
            "504/504 [==============================] - 0s 970us/sample - loss: 0.0477 - accuracy: 0.9762 - val_loss: 0.0010 - val_accuracy: 1.0000\n",
            "Epoch 30/30\n",
            "504/504 [==============================] - 0s 973us/sample - loss: 0.0298 - accuracy: 0.9861 - val_loss: 9.1438e-04 - val_accuracy: 1.0000\n",
            "<tensorflow.python.keras.callbacks.History object at 0x7f2ac44dbd30>\n"
          ],
          "name": "stdout"
        }
      ]
    },
    {
      "cell_type": "code",
      "metadata": {
        "id": "nTvi3OkBNvjG",
        "colab": {
          "base_uri": "https://localhost:8080/",
          "height": 312
        },
        "outputId": "e59dfd8a-b73f-4a96-9986-db5c199ff393"
      },
      "source": [
        "#plotting the loss graph\n",
        "plt.plot(history.history['loss'])\n",
        "plt.title('Model Loss')\n",
        "plt.ylabel('Loss')\n",
        "plt.xlabel('Epochs')\n"
      ],
      "execution_count": 23,
      "outputs": [
        {
          "output_type": "execute_result",
          "data": {
            "text/plain": [
              "Text(0.5, 0, 'Epochs')"
            ]
          },
          "metadata": {
            "tags": []
          },
          "execution_count": 23
        },
        {
          "output_type": "display_data",
          "data": {
            "image/png": "[encoded data removed]",
            "text/plain": [
              "<Figure size 432x288 with 1 Axes>"
            ]
          },
          "metadata": {
            "tags": [],
            "needs_background": "light"
          }
        }
      ]
    },
    {
      "cell_type": "code",
      "metadata": {
        "id": "YVddhUo7NxM-",
        "colab": {
          "base_uri": "https://localhost:8080/",
          "height": 199
        },
        "outputId": "ea094779-0768-4914-9498-74351b20723b"
      },
      "source": [
        "#Confusion Matrix\n",
        "test_y=test_y+1\n",
        "y_pred=np.argmax(modelf.predict(test_X), axis=-1)+1\n",
        "cm=pd.crosstab(test_y,y_pred)\n",
        "print(\"Confusion matrix:\\n\")\n",
        "cm"
      ],
      "execution_count": 24,
      "outputs": [
        {
          "output_type": "stream",
          "text": [
            "Confusion matrix:\n",
            "\n"
          ],
          "name": "stdout"
        },
        {
          "output_type": "execute_result",
          "data": {
            "text/html": [
              "<div>\n",
              "<style scoped>\n",
              "    .dataframe tbody tr th:only-of-type {\n",
              "        vertical-align: middle;\n",
              "    }\n",
              "\n",
              "    .dataframe tbody tr th {\n",
              "        vertical-align: top;\n",
              "    }\n",
              "\n",
              "    .dataframe thead th {\n",
              "        text-align: right;\n",
              "    }\n",
              "</style>\n",
              "<table border=\"1\" class=\"dataframe\">\n",
              "  <thead>\n",
              "    <tr style=\"text-align: right;\">\n",
              "      <th>col_0</th>\n",
              "      <th>1</th>\n",
              "      <th>2</th>\n",
              "      <th>3</th>\n",
              "    </tr>\n",
              "    <tr>\n",
              "      <th>row_0</th>\n",
              "      <th></th>\n",
              "      <th></th>\n",
              "      <th></th>\n",
              "    </tr>\n",
              "  </thead>\n",
              "  <tbody>\n",
              "    <tr>\n",
              "      <th>1</th>\n",
              "      <td>41</td>\n",
              "      <td>1</td>\n",
              "      <td>0</td>\n",
              "    </tr>\n",
              "    <tr>\n",
              "      <th>2</th>\n",
              "      <td>0</td>\n",
              "      <td>54</td>\n",
              "      <td>0</td>\n",
              "    </tr>\n",
              "    <tr>\n",
              "      <th>3</th>\n",
              "      <td>2</td>\n",
              "      <td>0</td>\n",
              "      <td>46</td>\n",
              "    </tr>\n",
              "  </tbody>\n",
              "</table>\n",
              "</div>"
            ],
            "text/plain": [
              "col_0   1   2   3\n",
              "row_0            \n",
              "1      41   1   0\n",
              "2       0  54   0\n",
              "3       2   0  46"
            ]
          },
          "metadata": {
            "tags": []
          },
          "execution_count": 24
        }
      ]
    },
    {
      "cell_type": "code",
      "metadata": {
        "id": "SbrF43l5N2TG",
        "colab": {
          "base_uri": "https://localhost:8080/"
        },
        "outputId": "69d301ab-801c-4b59-c475-c10476372e28"
      },
      "source": [
        "print(\"Individual class accuracy:\")\n",
        "cm=confusion_matrix(test_y,y_pred)\n",
        "for i in range(3):\n",
        "  print(f'Class {i+1} accuracy: ', end=\"\")\n",
        "  print((cm.diagonal()/cm.sum(axis=1))[i] *100) #Individual Class Accuracy\n",
        "  print(\"\\n\")"
      ],
      "execution_count": 25,
      "outputs": [
        {
          "output_type": "stream",
          "text": [
            "Individual class accuracy:\n",
            "Class 1 accuracy: 97.61904761904762\n",
            "\n",
            "\n",
            "Class 2 accuracy: 100.0\n",
            "\n",
            "\n",
            "Class 3 accuracy: 95.83333333333334\n",
            "\n",
            "\n"
          ],
          "name": "stdout"
        }
      ]
    },
    {
      "cell_type": "code",
      "metadata": {
        "id": "GEs2l76zN5fK",
        "colab": {
          "base_uri": "https://localhost:8080/"
        },
        "outputId": "580877c0-bace-45b0-9535-db4b09589086"
      },
      "source": [
        "print(f\"Overall Accuracy: {np.sum(y_pred==test_y)/len(test_y) *100}%\")"
      ],
      "execution_count": 26,
      "outputs": [
        {
          "output_type": "stream",
          "text": [
            "Overall Accuracy: 97.91666666666666%\n"
          ],
          "name": "stdout"
        }
      ]
    },
    {
      "cell_type": "code",
      "metadata": {
        "id": "FbPQytEFOaja"
      },
      "source": [
        "def call_model(tr_x,tr_y):\n",
        "  modelk=create_model()\n",
        "  modelk.compile(loss='sparse_categorical_crossentropy', optimizer='sgd', metrics=['accuracy'])\n",
        "  modelk.fit(tr_x,tr_y, epochs=20, batch_size=15,verbose=0,shuffle=False)\n",
        "  return modelk"
      ],
      "execution_count": 27,
      "outputs": []
    },
    {
      "cell_type": "code",
      "metadata": {
        "id": "2dsC2Tn3Oe-e",
        "colab": {
          "base_uri": "https://localhost:8080/"
        },
        "outputId": "f21bf75e-f5d3-4db3-d420-ffa5813338a7"
      },
      "source": [
        "j=1\n",
        "Xs, ys = shuffle(X, y,random_state=0)\n",
        "kf=KFold(n_splits=10)\n",
        "for train,test in kf.split(Xs):\n",
        "  print()\n",
        "  print(f\"Fold {j}:\")\n",
        "  j=j+1\n",
        "  tr_x,tr_y,ts_x,ts_y=Xs[train],ys[train],Xs[test],ys[test]\n",
        "  tf.compat.v1.disable_eager_execution()\n",
        "  y_pred=np.argmax(call_model(tr_x,tr_y).predict(ts_x), axis=-1)\n",
        "  cm=confusion_matrix(ts_y,y_pred)\n",
        "  print(\"Confusion matrix:\")\n",
        "  print(cm)\n",
        "  print(\"Individual class accuracy:\")\n",
        "  for i in range(3):\n",
        "    print(f\"Class {i+1}: \", end = \"\")\n",
        "    print((cm.diagonal()/cm.sum(axis=1))[i] *100) #Individual Class Accuracy\n",
        "    print(\"\\n\")\n",
        "  print(f\"Overall Accuracy: {np.sum(y_pred==ts_y)/len(ts_y) *100}%\")"
      ],
      "execution_count": 28,
      "outputs": [
        {
          "output_type": "stream",
          "text": [
            "\n",
            "Fold 1:\n",
            "Confusion matrix:\n",
            "[[18  0  0]\n",
            " [ 0 21  0]\n",
            " [ 0  0 33]]\n",
            "Individual class accuracy:\n",
            "Class 1: 100.0\n",
            "\n",
            "\n",
            "Class 2: 100.0\n",
            "\n",
            "\n",
            "Class 3: 100.0\n",
            "\n",
            "\n",
            "Overall Accuracy: 100.0%\n",
            "\n",
            "Fold 2:\n",
            "Confusion matrix:\n",
            "[[24  0  0]\n",
            " [ 0 33  0]\n",
            " [ 1  0 14]]\n",
            "Individual class accuracy:\n",
            "Class 1: 100.0\n",
            "\n",
            "\n",
            "Class 2: 100.0\n",
            "\n",
            "\n",
            "Class 3: 93.33333333333333\n",
            "\n",
            "\n",
            "Overall Accuracy: 98.61111111111111%\n",
            "\n",
            "Fold 3:\n",
            "Confusion matrix:\n",
            "[[19  0  0]\n",
            " [ 0 31  0]\n",
            " [ 0  0 22]]\n",
            "Individual class accuracy:\n",
            "Class 1: 100.0\n",
            "\n",
            "\n",
            "Class 2: 100.0\n",
            "\n",
            "\n",
            "Class 3: 100.0\n",
            "\n",
            "\n",
            "Overall Accuracy: 100.0%\n",
            "\n",
            "Fold 4:\n",
            "Confusion matrix:\n",
            "[[31  0  0]\n",
            " [ 0 23  0]\n",
            " [ 0  0 18]]\n",
            "Individual class accuracy:\n",
            "Class 1: 100.0\n",
            "\n",
            "\n",
            "Class 2: 100.0\n",
            "\n",
            "\n",
            "Class 3: 100.0\n",
            "\n",
            "\n",
            "Overall Accuracy: 100.0%\n",
            "\n",
            "Fold 5:\n",
            "Confusion matrix:\n",
            "[[22  0  0]\n",
            " [ 0 28  0]\n",
            " [ 0  0 22]]\n",
            "Individual class accuracy:\n",
            "Class 1: 100.0\n",
            "\n",
            "\n",
            "Class 2: 100.0\n",
            "\n",
            "\n",
            "Class 3: 100.0\n",
            "\n",
            "\n",
            "Overall Accuracy: 100.0%\n",
            "\n",
            "Fold 6:\n",
            "Confusion matrix:\n",
            "[[21  0  0]\n",
            " [ 0 28  0]\n",
            " [ 0  0 23]]\n",
            "Individual class accuracy:\n",
            "Class 1: 100.0\n",
            "\n",
            "\n",
            "Class 2: 100.0\n",
            "\n",
            "\n",
            "Class 3: 100.0\n",
            "\n",
            "\n",
            "Overall Accuracy: 100.0%\n",
            "\n",
            "Fold 7:\n",
            "Confusion matrix:\n",
            "[[23  0  0]\n",
            " [ 0 18  0]\n",
            " [ 0  0 31]]\n",
            "Individual class accuracy:\n",
            "Class 1: 100.0\n",
            "\n",
            "\n",
            "Class 2: 100.0\n",
            "\n",
            "\n",
            "Class 3: 100.0\n",
            "\n",
            "\n",
            "Overall Accuracy: 100.0%\n",
            "\n",
            "Fold 8:\n",
            "Confusion matrix:\n",
            "[[28  0  0]\n",
            " [ 0 21  0]\n",
            " [ 0  0 23]]\n",
            "Individual class accuracy:\n",
            "Class 1: 100.0\n",
            "\n",
            "\n",
            "Class 2: 100.0\n",
            "\n",
            "\n",
            "Class 3: 100.0\n",
            "\n",
            "\n",
            "Overall Accuracy: 100.0%\n",
            "\n",
            "Fold 9:\n",
            "Confusion matrix:\n",
            "[[28  0  0]\n",
            " [ 0 25  0]\n",
            " [ 0  0 19]]\n",
            "Individual class accuracy:\n",
            "Class 1: 100.0\n",
            "\n",
            "\n",
            "Class 2: 100.0\n",
            "\n",
            "\n",
            "Class 3: 100.0\n",
            "\n",
            "\n",
            "Overall Accuracy: 100.0%\n",
            "\n",
            "Fold 10:\n",
            "Confusion matrix:\n",
            "[[23  0  0]\n",
            " [ 0 24  0]\n",
            " [ 0  0 25]]\n",
            "Individual class accuracy:\n",
            "Class 1: 100.0\n",
            "\n",
            "\n",
            "Class 2: 100.0\n",
            "\n",
            "\n",
            "Class 3: 100.0\n",
            "\n",
            "\n",
            "Overall Accuracy: 100.0%\n"
          ],
          "name": "stdout"
        }
      ]
    }
  ]
}