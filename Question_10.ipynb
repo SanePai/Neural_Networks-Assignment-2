{
  "nbformat": 4,
  "nbformat_minor": 0,
  "metadata": {
    "accelerator": "GPU",
    "colab": {
      "name": "Question 10.ipynb",
      "provenance": [],
      "collapsed_sections": [],
      "mount_file_id": "16JzqgZeFmVldAc_oQof1VMnBm1il-z7O",
      "authorship_tag": "ABX9TyOH8BdncmiK1RZacVIeAT2Z",
      "include_colab_link": true
    },
    "kernelspec": {
      "display_name": "Python 3",
      "name": "python3"
    }
  },
  "cells": [
    {
      "cell_type": "markdown",
      "metadata": {
        "id": "view-in-github",
        "colab_type": "text"
      },
      "source": [
        "<a href=\"https://colab.research.google.com/github/SanePai/Neural_Networks-Assignment-2/blob/main/Question_10.ipynb\" target=\"_parent\"><img src=\"https://colab.research.google.com/assets/colab-badge.svg\" alt=\"Open In Colab\"/></a>"
      ]
    },
    {
      "cell_type": "code",
      "metadata": {
        "id": "UtjJONgac_xi"
      },
      "source": [
        "import warnings\n",
        "warnings.filterwarnings(\"ignore\")"
      ],
      "execution_count": 31,
      "outputs": []
    },
    {
      "cell_type": "code",
      "metadata": {
        "id": "U8mrNefYNf9z"
      },
      "source": [
        "import os\n",
        "from PIL import Image\n",
        "import glob \n",
        "import PIL\n",
        "import keras \n",
        "import tensorflow as tf #importing tensorflow as backend\n",
        "import sklearn\n",
        "import numpy as np\n",
        "import pandas as pd\n",
        "import scipy.io as sio \n",
        "import matplotlib.pyplot as plt\n",
        "\n",
        "from sklearn.model_selection import KFold\n",
        "from sklearn import preprocessing\n",
        "from sklearn.metrics import classification_report,confusion_matrix\n",
        "from sklearn.model_selection import train_test_split\n",
        "\n",
        "from keras.models import Sequential,Model\n",
        "from keras.layers import Input, Dense, Activation, Flatten, Conv2D, Dropout,MaxPooling2D,MaxPool2D,BatchNormalization\n",
        "from keras.optimizers import SGD,Adam\n",
        "from keras.utils import np_utils\n",
        "from sklearn.utils import shuffle\n"
      ],
      "execution_count": 32,
      "outputs": []
    },
    {
      "cell_type": "code",
      "metadata": {
        "id": "LtK0wINrNiit"
      },
      "source": [
        "X=[]\n",
        "y=[]\n",
        "img_dir = \"/content/drive/MyDrive/NNFL/Assignment 2/class1_images/class1_images/\"\n",
        "data_path = os.path.join(img_dir,'*g') \n",
        "files = glob.glob(data_path) \n",
        "for f1 in files:\n",
        "  X.append(np.asarray((Image.open(f1)).resize((128,128))))\n",
        "  y.append(0)\n",
        "img_dir = \"/content/drive/MyDrive/NNFL/Assignment 2/class2_images/class2_images\"  \n",
        "data_path = os.path.join(img_dir,'*g') \n",
        "files = glob.glob(data_path) \n",
        "for f1 in files:\n",
        "  X.append(np.asarray((Image.open(f1)).resize((128,128))))\n",
        "  y.append(1)\n",
        "img_dir = \"/content/drive/MyDrive/NNFL/Assignment 2/class3_images/class3_images\"  \n",
        "data_path = os.path.join(img_dir,'*g') \n",
        "files = glob.glob(data_path) \n",
        "for f1 in files:\n",
        "  X.append(np.asarray((Image.open(f1)).resize((128,128))))\n",
        "  y.append(2)"
      ],
      "execution_count": 33,
      "outputs": []
    },
    {
      "cell_type": "code",
      "metadata": {
        "id": "Kl6QlwfDNlh9"
      },
      "source": [
        "X=np.asarray(X)\n",
        "y=np.asarray(y)\n",
        "X=X/255.0"
      ],
      "execution_count": 34,
      "outputs": []
    },
    {
      "cell_type": "code",
      "metadata": {
        "id": "S_8Kf5kUNnmd"
      },
      "source": [
        "os.environ['TF_CPP_MIN_LOG_LEVEL'] = '3'\n",
        "train_X,test_X,train_y,test_y=train_test_split(X,y,test_size=0.2,train_size=0.8,random_state=0)\n",
        "train_X,valid_X,train_y,valid_y=train_test_split(train_X,train_y,test_size=1/8,train_size=7/8,random_state=0)"
      ],
      "execution_count": 35,
      "outputs": []
    },
    {
      "cell_type": "code",
      "metadata": {
        "id": "DX9gxsaGNqiV"
      },
      "source": [
        "def create_model():\n",
        "  model = Sequential()\n",
        "  model.add(Conv2D(filters = 8, kernel_size = (3,3), input_shape=(128, 128, 3), padding = \"same\"))\n",
        "  model.add(MaxPooling2D(pool_size=(2, 2), strides=(1, 1), padding='same'))\n",
        "  model.add(Activation('relu'))\n",
        "  \n",
        "  model.add(Conv2D(filters = 16, kernel_size = (3,3), padding = \"same\"))\n",
        "  model.add(MaxPooling2D(pool_size=(2, 2), strides=(1, 1), padding='same'))\n",
        "  \n",
        "  model.add(Conv2D(filters = 32, kernel_size = (3,3), padding = \"same\"))\n",
        "  model.add(MaxPooling2D(pool_size=(2, 2), strides=(3, 3), padding='same'))\n",
        "  #model.add(Activation('relu'))\n",
        "  \n",
        "  model.add(Conv2D(filters = 32, kernel_size = (3,3), padding = \"same\"))\n",
        "  model.add(Flatten())\n",
        "  \n",
        "  model.add(Dense(128))\n",
        "  model.add(Activation('relu'))\n",
        "  \n",
        "  model.add(Dense(64))\n",
        "  model.add(Dropout(0.3))\n",
        "  model.add(Activation('relu'))\n",
        "  \n",
        "  model.add(Dense(32))\n",
        "  model.add(Activation('relu'))\n",
        "  \n",
        "  model.add(Dense(16))\n",
        "  model.add(Dropout(0.3))\n",
        "  model.add(Activation('relu'))\n",
        "  \n",
        "  model.add(Dense(3))\n",
        "  model.add(Activation('softmax'))\n",
        "  return model\n"
      ],
      "execution_count": 36,
      "outputs": []
    },
    {
      "cell_type": "code",
      "metadata": {
        "colab": {
          "base_uri": "https://localhost:8080/"
        },
        "id": "mPGAYQpcNsXV",
        "outputId": "7473cc65-e563-45a3-894e-8b672a816944"
      },
      "source": [
        "modelf=create_model()\n",
        "modelf.summary()"
      ],
      "execution_count": 37,
      "outputs": [
        {
          "output_type": "stream",
          "text": [
            "Model: \"sequential_25\"\n",
            "_________________________________________________________________\n",
            "Layer (type)                 Output Shape              Param #   \n",
            "=================================================================\n",
            "conv2d_100 (Conv2D)          (None, 128, 128, 8)       224       \n",
            "_________________________________________________________________\n",
            "max_pooling2d_75 (MaxPooling (None, 128, 128, 8)       0         \n",
            "_________________________________________________________________\n",
            "activation_150 (Activation)  (None, 128, 128, 8)       0         \n",
            "_________________________________________________________________\n",
            "conv2d_101 (Conv2D)          (None, 128, 128, 16)      1168      \n",
            "_________________________________________________________________\n",
            "max_pooling2d_76 (MaxPooling (None, 128, 128, 16)      0         \n",
            "_________________________________________________________________\n",
            "conv2d_102 (Conv2D)          (None, 128, 128, 32)      4640      \n",
            "_________________________________________________________________\n",
            "max_pooling2d_77 (MaxPooling (None, 43, 43, 32)        0         \n",
            "_________________________________________________________________\n",
            "conv2d_103 (Conv2D)          (None, 43, 43, 32)        9248      \n",
            "_________________________________________________________________\n",
            "flatten_25 (Flatten)         (None, 59168)             0         \n",
            "_________________________________________________________________\n",
            "dense_125 (Dense)            (None, 128)               7573632   \n",
            "_________________________________________________________________\n",
            "activation_151 (Activation)  (None, 128)               0         \n",
            "_________________________________________________________________\n",
            "dense_126 (Dense)            (None, 64)                8256      \n",
            "_________________________________________________________________\n",
            "dropout_50 (Dropout)         (None, 64)                0         \n",
            "_________________________________________________________________\n",
            "activation_152 (Activation)  (None, 64)                0         \n",
            "_________________________________________________________________\n",
            "dense_127 (Dense)            (None, 32)                2080      \n",
            "_________________________________________________________________\n",
            "activation_153 (Activation)  (None, 32)                0         \n",
            "_________________________________________________________________\n",
            "dense_128 (Dense)            (None, 16)                528       \n",
            "_________________________________________________________________\n",
            "dropout_51 (Dropout)         (None, 16)                0         \n",
            "_________________________________________________________________\n",
            "activation_154 (Activation)  (None, 16)                0         \n",
            "_________________________________________________________________\n",
            "dense_129 (Dense)            (None, 3)                 51        \n",
            "_________________________________________________________________\n",
            "activation_155 (Activation)  (None, 3)                 0         \n",
            "=================================================================\n",
            "Total params: 7,599,827\n",
            "Trainable params: 7,599,827\n",
            "Non-trainable params: 0\n",
            "_________________________________________________________________\n"
          ],
          "name": "stdout"
        }
      ]
    },
    {
      "cell_type": "code",
      "metadata": {
        "colab": {
          "base_uri": "https://localhost:8080/"
        },
        "id": "JVM4bNyCNt2n",
        "outputId": "19568489-6ba2-493d-a99b-69251de5f047"
      },
      "source": [
        "modelf.compile(loss='sparse_categorical_crossentropy', optimizer='sgd', metrics=['accuracy'])\n",
        "history=modelf.fit(train_X, train_y, epochs=30, batch_size=15,validation_data=(valid_X,valid_y))\n",
        "print(history)"
      ],
      "execution_count": 38,
      "outputs": [
        {
          "output_type": "stream",
          "text": [
            "Train on 504 samples, validate on 72 samples\n",
            "Epoch 1/30\n",
            "504/504 [==============================] - 1s 2ms/sample - loss: 1.1352 - accuracy: 0.3175 - val_loss: 1.0992 - val_accuracy: 0.3056\n",
            "Epoch 2/30\n",
            "504/504 [==============================] - 0s 842us/sample - loss: 1.0982 - accuracy: 0.3611 - val_loss: 1.0979 - val_accuracy: 0.3056\n",
            "Epoch 3/30\n",
            "504/504 [==============================] - 0s 818us/sample - loss: 1.0998 - accuracy: 0.3571 - val_loss: 1.0928 - val_accuracy: 0.3889\n",
            "Epoch 4/30\n",
            "504/504 [==============================] - 0s 857us/sample - loss: 1.1011 - accuracy: 0.3234 - val_loss: 1.0940 - val_accuracy: 0.4028\n",
            "Epoch 5/30\n",
            "504/504 [==============================] - 0s 815us/sample - loss: 1.0980 - accuracy: 0.3532 - val_loss: 1.0890 - val_accuracy: 0.3889\n",
            "Epoch 6/30\n",
            "504/504 [==============================] - 0s 816us/sample - loss: 1.0977 - accuracy: 0.3492 - val_loss: 1.0985 - val_accuracy: 0.3056\n",
            "Epoch 7/30\n",
            "504/504 [==============================] - 0s 852us/sample - loss: 1.0939 - accuracy: 0.3790 - val_loss: 1.0936 - val_accuracy: 0.5972\n",
            "Epoch 8/30\n",
            "504/504 [==============================] - 0s 816us/sample - loss: 1.0909 - accuracy: 0.3889 - val_loss: 1.0941 - val_accuracy: 0.3056\n",
            "Epoch 9/30\n",
            "504/504 [==============================] - 0s 818us/sample - loss: 1.0863 - accuracy: 0.4266 - val_loss: 1.0720 - val_accuracy: 0.6667\n",
            "Epoch 10/30\n",
            "504/504 [==============================] - 0s 819us/sample - loss: 1.0777 - accuracy: 0.4405 - val_loss: 1.0429 - val_accuracy: 0.6667\n",
            "Epoch 11/30\n",
            "504/504 [==============================] - 0s 823us/sample - loss: 1.0595 - accuracy: 0.4524 - val_loss: 1.0535 - val_accuracy: 0.3889\n",
            "Epoch 12/30\n",
            "504/504 [==============================] - 0s 837us/sample - loss: 1.0411 - accuracy: 0.5020 - val_loss: 0.9888 - val_accuracy: 0.6806\n",
            "Epoch 13/30\n",
            "504/504 [==============================] - 0s 816us/sample - loss: 1.0143 - accuracy: 0.5278 - val_loss: 0.9581 - val_accuracy: 0.6806\n",
            "Epoch 14/30\n",
            "504/504 [==============================] - 0s 815us/sample - loss: 0.9634 - accuracy: 0.5357 - val_loss: 0.8893 - val_accuracy: 0.6250\n",
            "Epoch 15/30\n",
            "504/504 [==============================] - 0s 819us/sample - loss: 0.8695 - accuracy: 0.5734 - val_loss: 0.7026 - val_accuracy: 0.7361\n",
            "Epoch 16/30\n",
            "504/504 [==============================] - 0s 832us/sample - loss: 0.8317 - accuracy: 0.5833 - val_loss: 0.5757 - val_accuracy: 0.7222\n",
            "Epoch 17/30\n",
            "504/504 [==============================] - 0s 869us/sample - loss: 0.6824 - accuracy: 0.6567 - val_loss: 0.5073 - val_accuracy: 0.8056\n",
            "Epoch 18/30\n",
            "504/504 [==============================] - 0s 867us/sample - loss: 0.7158 - accuracy: 0.6508 - val_loss: 0.5349 - val_accuracy: 0.6944\n",
            "Epoch 19/30\n",
            "504/504 [==============================] - 0s 814us/sample - loss: 0.6956 - accuracy: 0.6528 - val_loss: 0.6243 - val_accuracy: 0.8194\n",
            "Epoch 20/30\n",
            "504/504 [==============================] - 0s 830us/sample - loss: 0.5272 - accuracy: 0.7619 - val_loss: 0.4462 - val_accuracy: 0.9028\n",
            "Epoch 21/30\n",
            "504/504 [==============================] - 0s 817us/sample - loss: 0.4556 - accuracy: 0.7956 - val_loss: 0.2218 - val_accuracy: 0.9861\n",
            "Epoch 22/30\n",
            "504/504 [==============================] - 0s 831us/sample - loss: 0.3498 - accuracy: 0.8770 - val_loss: 1.4235 - val_accuracy: 0.5556\n",
            "Epoch 23/30\n",
            "504/504 [==============================] - 0s 827us/sample - loss: 0.5930 - accuracy: 0.7857 - val_loss: 0.0988 - val_accuracy: 0.9861\n",
            "Epoch 24/30\n",
            "504/504 [==============================] - 0s 837us/sample - loss: 0.3038 - accuracy: 0.9028 - val_loss: 0.0565 - val_accuracy: 0.9861\n",
            "Epoch 25/30\n",
            "504/504 [==============================] - 0s 839us/sample - loss: 0.1277 - accuracy: 0.9583 - val_loss: 0.0202 - val_accuracy: 1.0000\n",
            "Epoch 26/30\n",
            "504/504 [==============================] - 0s 838us/sample - loss: 0.1209 - accuracy: 0.9623 - val_loss: 0.0108 - val_accuracy: 1.0000\n",
            "Epoch 27/30\n",
            "504/504 [==============================] - 0s 835us/sample - loss: 0.0779 - accuracy: 0.9722 - val_loss: 0.0056 - val_accuracy: 1.0000\n",
            "Epoch 28/30\n",
            "504/504 [==============================] - 0s 831us/sample - loss: 0.0685 - accuracy: 0.9802 - val_loss: 0.0056 - val_accuracy: 1.0000\n",
            "Epoch 29/30\n",
            "504/504 [==============================] - 0s 825us/sample - loss: 0.0383 - accuracy: 0.9960 - val_loss: 0.0053 - val_accuracy: 1.0000\n",
            "Epoch 30/30\n",
            "504/504 [==============================] - 0s 827us/sample - loss: 0.0476 - accuracy: 0.9861 - val_loss: 0.0013 - val_accuracy: 1.0000\n",
            "<tensorflow.python.keras.callbacks.History object at 0x7f0194256f28>\n"
          ],
          "name": "stdout"
        }
      ]
    },
    {
      "cell_type": "code",
      "metadata": {
        "colab": {
          "base_uri": "https://localhost:8080/",
          "height": 312
        },
        "id": "nTvi3OkBNvjG",
        "outputId": "1edc6309-4f49-4215-916d-7556148a8b08"
      },
      "source": [
        "#plotting the loss graph\n",
        "plt.plot(history.history['loss'])\n",
        "plt.title('Model Loss')\n",
        "plt.ylabel('Loss')\n",
        "plt.xlabel('Epochs')\n"
      ],
      "execution_count": 39,
      "outputs": [
        {
          "output_type": "execute_result",
          "data": {
            "text/plain": [
              "Text(0.5, 0, 'Epochs')"
            ]
          },
          "metadata": {
            "tags": []
          },
          "execution_count": 39
        },
        {
          "output_type": "display_data",
          "data": {
            "image/png": "[encoded data removed]",
            "text/plain": [
              "<Figure size 432x288 with 1 Axes>"
            ]
          },
          "metadata": {
            "tags": [],
            "needs_background": "light"
          }
        }
      ]
    },
    {
      "cell_type": "code",
      "metadata": {
        "colab": {
          "base_uri": "https://localhost:8080/",
          "height": 199
        },
        "id": "YVddhUo7NxM-",
        "outputId": "d53a9e61-2fb2-418c-96dd-924c3859bacf"
      },
      "source": [
        "#Confusion Matrix\n",
        "test_y=test_y+1\n",
        "y_pred=np.argmax(modelf.predict(test_X), axis=-1)+1\n",
        "cm=pd.crosstab(test_y,y_pred)\n",
        "print(\"Confusion matrix:\\n\")\n",
        "cm"
      ],
      "execution_count": 40,
      "outputs": [
        {
          "output_type": "stream",
          "text": [
            "Confusion matrix:\n",
            "\n"
          ],
          "name": "stdout"
        },
        {
          "output_type": "execute_result",
          "data": {
            "text/html": [
              "<div>\n",
              "<style scoped>\n",
              "    .dataframe tbody tr th:only-of-type {\n",
              "        vertical-align: middle;\n",
              "    }\n",
              "\n",
              "    .dataframe tbody tr th {\n",
              "        vertical-align: top;\n",
              "    }\n",
              "\n",
              "    .dataframe thead th {\n",
              "        text-align: right;\n",
              "    }\n",
              "</style>\n",
              "<table border=\"1\" class=\"dataframe\">\n",
              "  <thead>\n",
              "    <tr style=\"text-align: right;\">\n",
              "      <th>col_0</th>\n",
              "      <th>1</th>\n",
              "      <th>2</th>\n",
              "      <th>3</th>\n",
              "    </tr>\n",
              "    <tr>\n",
              "      <th>row_0</th>\n",
              "      <th></th>\n",
              "      <th></th>\n",
              "      <th></th>\n",
              "    </tr>\n",
              "  </thead>\n",
              "  <tbody>\n",
              "    <tr>\n",
              "      <th>1</th>\n",
              "      <td>41</td>\n",
              "      <td>1</td>\n",
              "      <td>0</td>\n",
              "    </tr>\n",
              "    <tr>\n",
              "      <th>2</th>\n",
              "      <td>0</td>\n",
              "      <td>54</td>\n",
              "      <td>0</td>\n",
              "    </tr>\n",
              "    <tr>\n",
              "      <th>3</th>\n",
              "      <td>3</td>\n",
              "      <td>0</td>\n",
              "      <td>45</td>\n",
              "    </tr>\n",
              "  </tbody>\n",
              "</table>\n",
              "</div>"
            ],
            "text/plain": [
              "col_0   1   2   3\n",
              "row_0            \n",
              "1      41   1   0\n",
              "2       0  54   0\n",
              "3       3   0  45"
            ]
          },
          "metadata": {
            "tags": []
          },
          "execution_count": 40
        }
      ]
    },
    {
      "cell_type": "code",
      "metadata": {
        "colab": {
          "base_uri": "https://localhost:8080/"
        },
        "id": "SbrF43l5N2TG",
        "outputId": "39c8bf5b-5f0e-45ea-bd53-2b29ddb347a8"
      },
      "source": [
        "print(\"Individual class accuracy:\")\n",
        "cm=confusion_matrix(test_y,y_pred)\n",
        "for i in range(3):\n",
        "  print(f'Class {i+1} accuracy: ', end=\"\")\n",
        "  print((cm.diagonal()/cm.sum(axis=1))[i] *100) #Individual Class Accuracy"
      ],
      "execution_count": 41,
      "outputs": [
        {
          "output_type": "stream",
          "text": [
            "Individual class accuracy:\n",
            "Class 1 accuracy: 97.61904761904762\n",
            "Class 2 accuracy: 100.0\n",
            "Class 3 accuracy: 93.75\n"
          ],
          "name": "stdout"
        }
      ]
    },
    {
      "cell_type": "code",
      "metadata": {
        "colab": {
          "base_uri": "https://localhost:8080/"
        },
        "id": "GEs2l76zN5fK",
        "outputId": "5f2d3986-a3a5-4a62-e232-245d226d7f60"
      },
      "source": [
        "print(f\"Overall Accuracy: {np.sum(y_pred==test_y)/len(test_y) *100}%\")"
      ],
      "execution_count": 42,
      "outputs": [
        {
          "output_type": "stream",
          "text": [
            "Overall Accuracy: 97.22222222222221%\n"
          ],
          "name": "stdout"
        }
      ]
    },
    {
      "cell_type": "code",
      "metadata": {
        "id": "FbPQytEFOaja"
      },
      "source": [
        "def call_model(tr_x,tr_y):\n",
        "  modelk=create_model()\n",
        "  modelk.compile(loss='sparse_categorical_crossentropy', optimizer='sgd', metrics=['accuracy'])\n",
        "  modelk.fit(tr_x,tr_y, epochs=20, batch_size=15,verbose=0,shuffle=False)\n",
        "  return modelk"
      ],
      "execution_count": 43,
      "outputs": []
    },
    {
      "cell_type": "code",
      "metadata": {
        "id": "2dsC2Tn3Oe-e",
        "colab": {
          "base_uri": "https://localhost:8080/"
        },
        "outputId": "b3a0bcac-df9d-4776-d995-3bb198383072"
      },
      "source": [
        "j=1\n",
        "Xs, ys = shuffle(X, y,random_state=0)\n",
        "kf=KFold(n_splits=10)\n",
        "accs = 0\n",
        "for train,test in kf.split(Xs):\n",
        "    print()\n",
        "    print(f\"Fold {j}:\")\n",
        "    j=j+1\n",
        "    tr_x,tr_y,ts_x,ts_y=Xs[train],ys[train],Xs[test],ys[test]\n",
        "    tf.compat.v1.disable_eager_execution()\n",
        "    y_pred=np.argmax(call_model(tr_x,tr_y).predict(ts_x), axis=-1)\n",
        "    cm=confusion_matrix(ts_y,y_pred)\n",
        "    print(\"Confusion matrix:\")\n",
        "    print(cm)\n",
        "    print(\"Individual class accuracy:\")\n",
        "    for i in range(3):\n",
        "        print(f\"Class {i+1}: \", end = \"\")\n",
        "        print((cm.diagonal()/cm.sum(axis=1))[i] *100) #Individual Class Accuracy\n",
        "    acc = np.sum(y_pred==ts_y)/len(ts_y)\n",
        "    accs += acc\n",
        "    print(f\"Overall Accuracy: {acc*100}%\")\n",
        "    print(\"====================================\")\n",
        "\n",
        "print(f\"Average Accuracy: {accs*100/10}%\")"
      ],
      "execution_count": 44,
      "outputs": [
        {
          "output_type": "stream",
          "text": [
            "\n",
            "Fold 1:\n",
            "Confusion matrix:\n",
            "[[17  1  0]\n",
            " [ 0 21  0]\n",
            " [ 0  0 33]]\n",
            "Individual class accuracy:\n",
            "Class 1: 94.44444444444444\n",
            "Class 2: 100.0\n",
            "Class 3: 100.0\n",
            "Overall Accuracy: 98.61111111111111%\n",
            "====================================\n",
            "\n",
            "Fold 2:\n",
            "Confusion matrix:\n",
            "[[24  0  0]\n",
            " [ 0 33  0]\n",
            " [ 1  0 14]]\n",
            "Individual class accuracy:\n",
            "Class 1: 100.0\n",
            "Class 2: 100.0\n",
            "Class 3: 93.33333333333333\n",
            "Overall Accuracy: 98.61111111111111%\n",
            "====================================\n",
            "\n",
            "Fold 3:\n",
            "Confusion matrix:\n",
            "[[19  0  0]\n",
            " [ 0 31  0]\n",
            " [ 0  0 22]]\n",
            "Individual class accuracy:\n",
            "Class 1: 100.0\n",
            "Class 2: 100.0\n",
            "Class 3: 100.0\n",
            "Overall Accuracy: 100.0%\n",
            "====================================\n",
            "\n",
            "Fold 4:\n",
            "Confusion matrix:\n",
            "[[31  0  0]\n",
            " [ 0 23  0]\n",
            " [ 0  0 18]]\n",
            "Individual class accuracy:\n",
            "Class 1: 100.0\n",
            "Class 2: 100.0\n",
            "Class 3: 100.0\n",
            "Overall Accuracy: 100.0%\n",
            "====================================\n",
            "\n",
            "Fold 5:\n",
            "Confusion matrix:\n",
            "[[22  0  0]\n",
            " [ 0 27  1]\n",
            " [ 0  0 22]]\n",
            "Individual class accuracy:\n",
            "Class 1: 100.0\n",
            "Class 2: 96.42857142857143\n",
            "Class 3: 100.0\n",
            "Overall Accuracy: 98.61111111111111%\n",
            "====================================\n",
            "\n",
            "Fold 6:\n",
            "Confusion matrix:\n",
            "[[17  0  4]\n",
            " [ 0 28  0]\n",
            " [ 0  0 23]]\n",
            "Individual class accuracy:\n",
            "Class 1: 80.95238095238095\n",
            "Class 2: 100.0\n",
            "Class 3: 100.0\n",
            "Overall Accuracy: 94.44444444444444%\n",
            "====================================\n",
            "\n",
            "Fold 7:\n",
            "Confusion matrix:\n",
            "[[23  0  0]\n",
            " [ 1 17  0]\n",
            " [ 0  0 31]]\n",
            "Individual class accuracy:\n",
            "Class 1: 100.0\n",
            "Class 2: 94.44444444444444\n",
            "Class 3: 100.0\n",
            "Overall Accuracy: 98.61111111111111%\n",
            "====================================\n",
            "\n",
            "Fold 8:\n",
            "Confusion matrix:\n",
            "[[28  0  0]\n",
            " [ 0 21  0]\n",
            " [ 0  0 23]]\n",
            "Individual class accuracy:\n",
            "Class 1: 100.0\n",
            "Class 2: 100.0\n",
            "Class 3: 100.0\n",
            "Overall Accuracy: 100.0%\n",
            "====================================\n",
            "\n",
            "Fold 9:\n",
            "Confusion matrix:\n",
            "[[28  0  0]\n",
            " [ 0 25  0]\n",
            " [ 0  0 19]]\n",
            "Individual class accuracy:\n",
            "Class 1: 100.0\n",
            "Class 2: 100.0\n",
            "Class 3: 100.0\n",
            "Overall Accuracy: 100.0%\n",
            "====================================\n",
            "\n",
            "Fold 10:\n",
            "Confusion matrix:\n",
            "[[23  0  0]\n",
            " [ 0 24  0]\n",
            " [ 0  0 25]]\n",
            "Individual class accuracy:\n",
            "Class 1: 100.0\n",
            "Class 2: 100.0\n",
            "Class 3: 100.0\n",
            "Overall Accuracy: 100.0%\n",
            "====================================\n",
            "Average Accuracy: 98.88888888888889%\n"
          ],
          "name": "stdout"
        }
      ]
    }
  ]
}