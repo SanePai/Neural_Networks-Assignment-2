{
  "nbformat": 4,
  "nbformat_minor": 0,
  "metadata": {
    "colab": {
      "name": "Question 3.ipynb",
      "provenance": [],
      "collapsed_sections": [],
      "mount_file_id": "1oKG8xraMm9QhRYdxMEn0mDavdaTOvkR3",
      "authorship_tag": "ABX9TyPYGQNmtOQSoRy2xKdezlW7",
      "include_colab_link": true
    },
    "kernelspec": {
      "name": "python3",
      "display_name": "Python 3"
    }
  },
  "cells": [
    {
      "cell_type": "markdown",
      "metadata": {
        "id": "view-in-github",
        "colab_type": "text"
      },
      "source": [
        "<a href=\"https://colab.research.google.com/github/SanePai/Neural_Networks-Assignment-2/blob/main/Question_3.ipynb\" target=\"_parent\"><img src=\"https://colab.research.google.com/assets/colab-badge.svg\" alt=\"Open In Colab\"/></a>"
      ]
    },
    {
      "cell_type": "code",
      "metadata": {
        "colab": {
          "base_uri": "https://localhost:8080/"
        },
        "id": "X61vZJwTBwMH",
        "outputId": "d1159c7c-61a5-422a-e5c4-d077e48f64d5"
      },
      "source": [
        "%cd /content/drive/MyDrive/NNFL/Assignment 2\n",
        "!ls"
      ],
      "execution_count": null,
      "outputs": [
        {
          "output_type": "stream",
          "text": [
            "/content/drive/.shortcut-targets-by-id/104/Assignment 2\n",
            "assignment2.pdf  data55.xlsx  input_a2.mat  label.mat\n",
            "class_label.mat  data5.mat    input.mat\n"
          ],
          "name": "stdout"
        }
      ]
    },
    {
      "cell_type": "code",
      "metadata": {
        "id": "ocHbIdW5BQHf"
      },
      "source": [
        "import numpy as np\n",
        "import matplotlib.pyplot as plt\n",
        "from scipy.io import loadmat\n",
        "import random\n",
        "from sklearn.metrics import confusion_matrix as cm"
      ],
      "execution_count": null,
      "outputs": []
    },
    {
      "cell_type": "code",
      "metadata": {
        "id": "rbsum4wyBX3W"
      },
      "source": [
        "f = loadmat('data5.mat')\n",
        "D = f['x']\n",
        "np.random.shuffle(D)"
      ],
      "execution_count": null,
      "outputs": []
    },
    {
      "cell_type": "code",
      "metadata": {
        "id": "Pu88mOSQBcZ2"
      },
      "source": [
        "def init_data(data):\n",
        "    X = np.array(data[:2148, :-1], dtype = float)\n",
        "    y = np.array(data[:2148, -1], dtype = int)\n",
        "    X = (X - X.mean(axis = 0))/X.std(axis = 0)\n",
        "    return X, y\n",
        "\n",
        "def affine_forward(x, w, b):\n",
        "    z = x.dot(w) + b\n",
        "    cache = (x, w, b)\n",
        "    return z, cache\n",
        "\n",
        "def affine_backward(dout, cache):\n",
        "    x, w, b = cache\n",
        "    db = np.sum(dout, axis = 0)\n",
        "    dw = x.T.dot(dout)\n",
        "    dx = dout.dot(w.T)\n",
        "    return dx, dw, db\n",
        "\n",
        "def relu_forward(x):\n",
        "    a = x\n",
        "    a[a<=0] = 0\n",
        "    cache = x\n",
        "    return a, cache\n",
        "\n",
        "def relu_backward(dout, cache):\n",
        "    x = cache\n",
        "    dx = None\n",
        "    dx = np.ones(x.shape)\n",
        "    dx[x<=0] = 0\n",
        "    dx = dx * dout\n",
        "    return dx"
      ],
      "execution_count": null,
      "outputs": []
    },
    {
      "cell_type": "code",
      "metadata": {
        "id": "e7GYhwnFBgLW"
      },
      "source": [
        "class Twonet(object):\n",
        "\n",
        "    def __init__(self, input_size, hidden_size1, hidden_size2, num_classes, std=1e-4):\n",
        "        self.W1 = std * np.random.randn(input_size, hidden_size1)\n",
        "        self.b1 = np.zeros(hidden_size1)\n",
        "        self.W2 = std * np.random.randn(hidden_size1, hidden_size2)\n",
        "        self.b2 = np.zeros(hidden_size2)\n",
        "        self.W3 = std * np.random.randn(hidden_size2, num_classes)\n",
        "        self.b3 = np.zeros(num_classes)\n",
        "\n",
        "    def calc_cost(self, X, y = None, reg = 0.0):\n",
        "        N, D = X.shape\n",
        "        scores = None\n",
        "        z1, af_cache1 = affine_forward(X, self.W1, self.b1)\n",
        "        h1, relu_cache1 = relu_forward(z1)\n",
        "        z2, af_cache2 = affine_forward(h1, self.W2, self.b2)\n",
        "        h2, relu_cache2 = relu_forward(z2)\n",
        "        z3, af_cache3 = affine_forward(h2, self.W3, self.b3)\n",
        "        scores = z3\n",
        "\n",
        "        if y is None:\n",
        "            return scores\n",
        "\n",
        "        J = None\n",
        "        scores -= scores.max()\n",
        "        scores_exp = np.exp(scores)\n",
        "        correct_scores = scores[range(N), y]\n",
        "        correct_scores_exp = np.exp(correct_scores)\n",
        "        J = np.sum(-np.log(correct_scores_exp / np.sum(scores_exp, axis = 1))) / N\n",
        "        J += 0.5 * reg * (np.sum(self.W1 * self.W1) + \\\n",
        "            np.sum(self.W2 * self.W2) + np.sum(self.W3 * self.W3))\n",
        "\n",
        "        num = correct_scores_exp\n",
        "        denom = np.sum(scores_exp, axis = 1)\n",
        "        mask = (np.exp(z3)/denom.reshape(scores.shape[0],1))\n",
        "        mask[range(N),y] = -(denom - num)/denom\n",
        "        mask /= N\n",
        "        dz3 = mask\n",
        "\n",
        "        dh2, dw3, db3 = affine_backward(dz3, af_cache3)\n",
        "        dz2 = relu_backward(dh2, relu_cache2)\n",
        "        dh1, dw2, db2 = affine_backward(dz2, af_cache2)\n",
        "        dz1 = relu_backward(dh1, relu_cache1)\n",
        "        dx, dw1, db1 = affine_backward(dz1, af_cache1)\n",
        "        \n",
        "        dw3 = dw3 + reg * self.W3\n",
        "        dw2 = dw2 + reg * self.W2\n",
        "        dw1 = dw1 + reg * self.W1\n",
        "\n",
        "        wgrad = (dw1, dw2, dw3)\n",
        "        bgrad = (db1, db2, db3)\n",
        "\n",
        "        return J, wgrad, bgrad\n",
        "\n",
        "    def train(self, X, y, X_val, y_val, alpha = 1e-3, alpha_decay = 0.95,\\\n",
        "         reg = 5e-6, num_iters = 100, batch_size = 200):\n",
        "        num_train = X.shape[0]\n",
        "        iterations_per_epoch = max(num_train / batch_size, 1)\n",
        "        J_list = []\n",
        "        train_acc_list = []\n",
        "        val_acc_list = []\n",
        "\n",
        "        for it in range(num_iters):\n",
        "\n",
        "            ind = np.random.choice(num_train, batch_size)\n",
        "            X_batch = X[ind,:]\n",
        "            y_batch = y[ind]\n",
        "            \n",
        "            J, wgrad, bgrad = self.calc_cost(X_batch, y = y_batch, reg = reg)\n",
        "            J_list.append(J)\n",
        "\n",
        "            dw1, dw2, dw3 = wgrad\n",
        "            db1, db2, db3 = bgrad\n",
        "\n",
        "            self.W1 -= alpha * dw1\n",
        "            self.W2 -= alpha * dw2\n",
        "            self.W3 -= alpha * dw3\n",
        "            self.b1 -= alpha * db1\n",
        "            self.b2 -= alpha * db2\n",
        "            self.b3 -= alpha * db3\n",
        "\n",
        "\n",
        "            if (it+1) % 500 == 0:\n",
        "                print(f'Iteration {it+1} / {num_iters}: Cost {J}')\n",
        "\n",
        "            if it % iterations_per_epoch == 0:\n",
        "                train_acc = (self.predict(X_batch) == y_batch).mean()\n",
        "                val_acc = (self.predict(X_val) == y_val).mean()\n",
        "                train_acc_list.append(train_acc)\n",
        "                val_acc_list.append(val_acc)\n",
        "\n",
        "                alpha *= alpha_decay\n",
        "\n",
        "\n",
        "        return {'J_list' : J_list, 'train_acc_list' : \\\n",
        "            train_acc_list, 'val_acc_list' : val_acc_list}\n",
        "\n",
        "\n",
        "    def predict(self, X):\n",
        "        y_pred = np.argmax(self.calc_cost(X), axis = 1)\n",
        "        return y_pred"
      ],
      "execution_count": null,
      "outputs": []
    },
    {
      "cell_type": "code",
      "metadata": {
        "id": "VB9f-Uh_Bj-9"
      },
      "source": [
        "input_size = 72\n",
        "hidden_size1 = 30\n",
        "hidden_size2 = 30\n",
        "num_classes = 2\n",
        "num_inputs = 1790\n",
        "std = 0.1\n",
        "alpha = 0.3\n",
        "batch_size = 1024\n",
        "reg = 1e-2\n",
        "num_iters = 1500"
      ],
      "execution_count": null,
      "outputs": []
    },
    {
      "cell_type": "code",
      "metadata": {
        "colab": {
          "base_uri": "https://localhost:8080/"
        },
        "id": "3JSdTbWuBpOF",
        "outputId": "b930bf0c-883e-48c6-ba6f-716028c29871"
      },
      "source": [
        "X_tot, y_tot = init_data(D)\n",
        "\n",
        "train_acc , val_acc = 0, 0\n",
        "J_list = np.empty((5, num_iters))\n",
        "val_accs = []\n",
        "train_accs = []\n",
        "\n",
        "for k in range(5):\n",
        "    \n",
        "    X = X_tot[0 : 1790]\n",
        "    y = y_tot[0 : 1790]\n",
        "    X_val = X_tot[1790 :]\n",
        "    y_val = y_tot[1790 :]\n",
        "    \n",
        "    Net = Twonet(input_size, hidden_size1, hidden_size2, num_classes, std)\n",
        "    print(\"Fold:\", k+1)\n",
        "    stats = Net.train(X, y, X_val, y_val, alpha=alpha, reg = 0.0, num_iters = num_iters, batch_size = batch_size)\n",
        "    J_list[k] = np.asarray(stats['J_list'])\n",
        "    val_accs = np.asarray(stats['val_acc_list'])\n",
        "    train_accs = np.asarray(stats['train_acc_list'])\n",
        "    train_acc += train_accs\n",
        "    val_acc += val_accs\n",
        "    print('===================================================')\n",
        "\n",
        "    X_tot[0 : 358] = X_val\n",
        "    X_tot[358 : ] = X\n",
        "    y_tot[0 : 358] = y_val\n",
        "    y_tot[358 : ] = y\n",
        "\n",
        "train_acc /= 5\n",
        "val_acc /= 5\n",
        "\n",
        "print(f'Final Accuracy: {train_acc[-1]*100}%\\nValidation Accuracy: {val_acc[-1]*100}%')\n",
        "J_hist = np.mean(J_list, axis = 0)"
      ],
      "execution_count": null,
      "outputs": [
        {
          "output_type": "stream",
          "text": [
            "Fold: 1\n",
            "Iteration 500 / 1500: Cost 0.004251921816280103\n",
            "Iteration 1000 / 1500: Cost 0.0011825516703203964\n",
            "Iteration 1500 / 1500: Cost 0.0004867277101460599\n",
            "===================================================\n",
            "Fold: 2\n",
            "Iteration 500 / 1500: Cost 0.004610844141062027\n",
            "Iteration 1000 / 1500: Cost 0.0009375925596136402\n",
            "Iteration 1500 / 1500: Cost 0.00045948867988409285\n",
            "===================================================\n",
            "Fold: 3\n",
            "Iteration 500 / 1500: Cost 0.005219135382783158\n",
            "Iteration 1000 / 1500: Cost 0.0008466985755271251\n",
            "Iteration 1500 / 1500: Cost 0.0005308197988116285\n",
            "===================================================\n",
            "Fold: 4\n",
            "Iteration 500 / 1500: Cost 0.004417103379939988\n",
            "Iteration 1000 / 1500: Cost 0.0009050633488437799\n",
            "Iteration 1500 / 1500: Cost 0.0004750331077850458\n",
            "===================================================\n",
            "Fold: 5\n",
            "Iteration 500 / 1500: Cost 0.0036646888458114965\n",
            "Iteration 1000 / 1500: Cost 0.0009664361431675718\n",
            "Iteration 1500 / 1500: Cost 0.0005241921700487366\n",
            "===================================================\n",
            "Final Accuracy: 100.0%\n",
            "Validation Accuracy: 95.97765363128492%\n"
          ],
          "name": "stdout"
        }
      ]
    },
    {
      "cell_type": "code",
      "metadata": {
        "colab": {
          "base_uri": "https://localhost:8080/",
          "height": 279
        },
        "id": "XkHivTaaBsyl",
        "outputId": "780df62a-2e43-4c5d-8b6b-aa557582a144"
      },
      "source": [
        "plt.subplot(2, 1, 1)\n",
        "plt.plot(J_hist)\n",
        "plt.xlabel('Iteration')\n",
        "plt.ylabel('Cost')\n",
        "\n",
        "plt.subplot(2, 1, 2)\n",
        "plt.plot(train_acc, label='train')\n",
        "plt.plot(val_acc, label='val')\n",
        "plt.xlabel('Epoch')\n",
        "plt.ylabel('Classification accuracy')\n",
        "plt.tight_layout\n",
        "plt.show()"
      ],
      "execution_count": null,
      "outputs": [
        {
          "output_type": "display_data",
          "data": {
            "image/png": "[encoded data removed]",
            "text/plain": [
              "<Figure size 432x288 with 2 Axes>"
            ]
          },
          "metadata": {
            "tags": [],
            "needs_background": "light"
          }
        }
      ]
    },
    {
      "cell_type": "code",
      "metadata": {
        "id": "cWS-ZxUB4Ow4",
        "colab": {
          "base_uri": "https://localhost:8080/"
        },
        "outputId": "cf7bff6e-dbbd-4b71-e21c-b31565617e23"
      },
      "source": [
        "y_pred = Net.predict(X_val)\n",
        "\n",
        "confmat = cm(y_val,y_pred)\n",
        "\n",
        "Accuracy = (confmat[0][0]+confmat[1][1])/len(y_val)\n",
        "Sensitivity = (confmat[1][1])/(confmat[1][0] + confmat[1][1])\n",
        "Specificity = (confmat[0][0])/(confmat[0][0] + confmat[0][1])\n",
        "print(confmat)\n",
        "print(f\"Accuracy: {Accuracy}\\nSensitivity: {Sensitivity}\\nSpecificity: {Specificity}\")"
      ],
      "execution_count": null,
      "outputs": [
        {
          "output_type": "stream",
          "text": [
            "[[182   0]\n",
            " [  0 176]]\n",
            "Accuracy: 1.0\n",
            "Sensitivity: 1.0\n",
            "Specificity: 1.0\n"
          ],
          "name": "stdout"
        }
      ]
    }
  ]
}