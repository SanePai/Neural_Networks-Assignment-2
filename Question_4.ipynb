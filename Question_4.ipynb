{
  "nbformat": 4,
  "nbformat_minor": 0,
  "metadata": {
    "colab": {
      "name": "Question 4.ipynb",
      "provenance": [],
      "collapsed_sections": [],
      "mount_file_id": "1tYXzC63UFjquTOUiW8oxh_ygYLv3BUzJ",
      "authorship_tag": "ABX9TyO/BF7NnQ1SgMhkF/8xM5Vm",
      "include_colab_link": true
    },
    "kernelspec": {
      "name": "python3",
      "display_name": "Python 3"
    },
    "accelerator": "GPU"
  },
  "cells": [
    {
      "cell_type": "markdown",
      "metadata": {
        "id": "view-in-github",
        "colab_type": "text"
      },
      "source": [
        "<a href=\"https://colab.research.google.com/github/SanePai/Neural_Networks-Assignment-2/blob/main/Question_4.ipynb\" target=\"_parent\"><img src=\"https://colab.research.google.com/assets/colab-badge.svg\" alt=\"Open In Colab\"/></a>"
      ]
    },
    {
      "cell_type": "code",
      "metadata": {
        "id": "dXr9C3Hdft7r"
      },
      "source": [
        "import warnings\n",
        "warnings.filterwarnings(\"ignore\")"
      ],
      "execution_count": 8,
      "outputs": []
    },
    {
      "cell_type": "code",
      "metadata": {
        "colab": {
          "base_uri": "https://localhost:8080/"
        },
        "id": "Y8o9_WmxBmqC",
        "outputId": "746c370f-2472-44ee-9dd4-b3d15c621e17"
      },
      "source": [
        "%cd \"/content/drive/MyDrive/NNFL/Assignment 2\"\n",
        "!ls"
      ],
      "execution_count": 9,
      "outputs": [
        {
          "output_type": "stream",
          "text": [
            "/content/drive/.shortcut-targets-by-id/104/Assignment 2\n",
            "assignment2.pdf  class2_images\tclass_label.mat  data5.mat     input.mat\n",
            "class1_images\t class3_images\tdata55.xlsx\t input_a2.mat  label.mat\n"
          ],
          "name": "stdout"
        }
      ]
    },
    {
      "cell_type": "code",
      "metadata": {
        "id": "8Ze7JX7SBrBx"
      },
      "source": [
        "import numpy as np\n",
        "from scipy.io import loadmat\n",
        "import random\n",
        "from sklearn.metrics import confusion_matrix as cm"
      ],
      "execution_count": 10,
      "outputs": []
    },
    {
      "cell_type": "code",
      "metadata": {
        "id": "V9jnqDdDECAZ"
      },
      "source": [
        "f = loadmat('data5.mat')\n",
        "D = f['x']\n",
        "np.random.shuffle(D)"
      ],
      "execution_count": 11,
      "outputs": []
    },
    {
      "cell_type": "code",
      "metadata": {
        "id": "CrdaRvMoGq9B"
      },
      "source": [
        "def init_data(data):\n",
        "    X = np.array(data[:2148, :-1], dtype = float)\n",
        "    y = np.array(data[:2148, -1], dtype = int)\n",
        "    X = (X - X.mean(axis = 0))/X.std(axis = 0)\n",
        "    return X, y\n",
        "\n",
        "def gaussian(x,center,sigma,beta):\n",
        "    #Gaussian Kernel\n",
        "    return np.exp(-beta * (np.linalg.norm(x - center)) ** 2)\n",
        "\n",
        "def multi_quadric(x, center, sigma, beta):\n",
        "    #Multi Quadratic Kernel\n",
        "    return ((np.linalg.norm(x - center)) ** 2 + sigma ** 2) ** 0.5\n",
        "\n",
        "def linear(x, center, sigma, beta):\n",
        "    #Linear Kernel\n",
        "    return np.linalg.norm(x - center)\n",
        "\n",
        "X_tot, y_tot = init_data(D)\n",
        "\n",
        "train_X = X_tot[ : 1600]\n",
        "train_y = y_tot[ : 1600]\n",
        "test_X = X_tot[1600 : 2148]\n",
        "test_y = y_tot[1600 : 2148]\n",
        "\n",
        "def fit_rbf(train_X, train_y, test_X, test_y):\n",
        "    centers, labels = kmeans(train_X,K=550)\n",
        "\n",
        "    sigma = np.zeros((len(centers), 1))\n",
        "    beta = np.zeros((len(centers), 1))\n",
        "    cluster_size = np.zeros((len(centers), 1))\n",
        "\n",
        "    for i in range(len(train_X)):\n",
        "        sigma[labels[i]] += np.linalg.norm(train_X[i] - centers[labels[i]])\n",
        "        cluster_size[labels[i]] += 1\n",
        "\n",
        "    sigma /= cluster_size\n",
        "    beta = 1 / 2 * (sigma * sigma + 1e-6)\n",
        "\n",
        "    H = np.zeros((len(train_X), len(centers)))\n",
        "\n",
        "    for i in range(len(train_X)):\n",
        "        for j in range(len(centers)):\n",
        "            H[i, j] = linear(train_X[i], centers[j], sigma[j], beta[j])\n",
        "\n",
        "    W = np.dot(np.linalg.pinv(H), train_y)\n",
        "\n",
        "    #Test run\n",
        "    H_test = np.zeros([len(test_X), len(centers)])\n",
        "    for i in range(len(test_X)):\n",
        "        for j in range(len(centers)):\n",
        "            H_test[i, j] = linear(test_X[i], centers[j], sigma[j], beta[j])\n",
        "\n",
        "    y_pred = np.dot(H_test, W)\n",
        "    for i in range(len(y_pred)):\n",
        "        y_pred[i] = 1 if y_pred[i]>=0.5 else 0\n",
        "        \n",
        "    accuracy = 0    \n",
        "    for i in range(len(y_pred)):\n",
        "        if y_pred[i] == test_y[i]:\n",
        "            accuracy +=1\n",
        "    accuracy /= len(y_pred)\n",
        "    print(accuracy)\n",
        "    return y_pred, accuracy"
      ],
      "execution_count": 12,
      "outputs": []
    },
    {
      "cell_type": "code",
      "metadata": {
        "id": "7xCuTb5o5awJ"
      },
      "source": [
        "def kmeans(X,K=3,max_iter=5000):\n",
        "    '''\n",
        "    K= number of clusters\n",
        "    '''\n",
        "    m,n = np.shape(X)\n",
        "    def create_dict(n):\n",
        "        a = {}\n",
        "        for i in range(n):\n",
        "            a[f'{i}'] = []\n",
        "        return a \n",
        "    def calc_distance(A,B):\n",
        "       return np.linalg.norm(A-B,2)\n",
        "    \n",
        "    def return_cluster(C_ind,ind):\n",
        "        '''\n",
        "        Returns the cluster that the index belongs to\n",
        "        '''\n",
        "        for i in C_ind.keys():\n",
        "            if ind in C_ind[i]:\n",
        "                return int(i)\n",
        "\n",
        "\n",
        "    #random centers\n",
        "    index_random = np.random.randint(0,m,K)\n",
        "    C = []\n",
        "    #Initializing random cluster centers\n",
        "    for i in range(K):\n",
        "        C.append(X[index_random[i]])\n",
        "    #New Centers\n",
        "    NC = np.zeros((K,n))\n",
        "\n",
        "    #converged state bool\n",
        "    st = False\n",
        "    iter = 0\n",
        "    while True:\n",
        "        if iter == max_iter or st:\n",
        "            break\n",
        "            \n",
        "        C_ind = create_dict(K)\n",
        "        for i in range(m):\n",
        "            d = []\n",
        "            for j in range(K):\n",
        "                d.append(calc_distance(X[i],C[j]))\n",
        "            index = np.argmin(d)\n",
        "            C_ind[f'{index}'].append(i) \n",
        "\n",
        "        for i in range(K):\n",
        "            c1_ind = C_ind[f'{i}']\n",
        "            if len(c1_ind):\n",
        "                for j in range(len(c1_ind)):\n",
        "                    NC[i] += X[c1_ind[j]]\n",
        "                NC[i] /= len(c1_ind)\n",
        "\n",
        "        if (C==NC).all():\n",
        "            st = True\n",
        "        \n",
        "        C = NC\n",
        "        iter += 1\n",
        "    \n",
        "    # return np.array(C),(C_ind)\n",
        "    labels = []\n",
        "    for i in range(m):\n",
        "        labels.append(return_cluster(C_ind,i))\n",
        "    return C,labels"
      ],
      "execution_count": 13,
      "outputs": []
    },
    {
      "cell_type": "code",
      "metadata": {
        "colab": {
          "base_uri": "https://localhost:8080/"
        },
        "id": "_u6-FsdUBU3X",
        "outputId": "a0587f5e-a11e-4b51-f376-0d2a6437a6c7"
      },
      "source": [
        "y_pred, _ = fit_rbf(train_X, train_y, test_X, test_y)\n",
        "for i in range(len(y_pred)):\n",
        "    y_pred[i] = 1 if y_pred[i] > 0.5 else 0\n",
        "\n",
        "confmat = cm(test_y, y_pred)\n",
        "\n",
        "Accuracy = (confmat[0][0]+confmat[1][1])/len(y_pred)\n",
        "Sensitivity = (confmat[1][1])/(confmat[1][0] + confmat[1][1])\n",
        "Specificity = (confmat[0][0])/(confmat[0][0] + confmat[0][1])\n",
        "print(\"Confusion Matrix:\")\n",
        "print(confmat)\n",
        "print(\"\\n\")\n",
        "print(f\"Accuracy: {Accuracy}\\nSensitivity: {Sensitivity}\\nSpecificity: {Specificity}\\n\")\n",
        "\n",
        "avg_acc = 0\n",
        "# K - fold cross validation\n",
        "\n",
        "for k in range(5):\n",
        "    X = X_tot[0 : 1718]\n",
        "    y = y_tot[0 : 1718]\n",
        "    X_val = X_tot[1718 :]\n",
        "    y_val = y_tot[1718 :]\n",
        "    print(f'Fold {k+1}:')\n",
        "    print(\"Accuracy: \", end=\"\")\n",
        "    _, acc = fit_rbf(X, y, X_val, y_val)\n",
        "    print(\"===================\")\n",
        "    avg_acc += acc\n",
        "    X_tot[0 : 430] = X_val\n",
        "    X_tot[430 : ] = X\n",
        "    y_tot[0 : 430] = y_val\n",
        "    y_tot[430 : ] = y\n",
        "\n",
        "avg_acc /= 5\n",
        "print(f'\\nAverage Accuracy: {avg_acc*100}%')"
      ],
      "execution_count": 15,
      "outputs": [
        {
          "output_type": "stream",
          "text": [
            "0.9470802919708029\n",
            "Confusion Matrix:\n",
            "[[264  17]\n",
            " [ 12 255]]\n",
            "\n",
            "\n",
            "Accuracy: 0.9470802919708029\n",
            "Sensitivity: 0.9550561797752809\n",
            "Specificity: 0.9395017793594306\n",
            "\n",
            "Fold 1:\n",
            "Accuracy: 0.958139534883721\n",
            "===================\n",
            "Fold 2:\n",
            "Accuracy: 0.9232558139534883\n",
            "===================\n",
            "Fold 3:\n",
            "Accuracy: 0.9651162790697675\n",
            "===================\n",
            "Fold 4:\n",
            "Accuracy: 0.9720930232558139\n",
            "===================\n",
            "Fold 5:\n",
            "Accuracy: 0.9511627906976744\n",
            "===================\n",
            "\n",
            "Average Accuracy: 95.3953488372093%\n"
          ],
          "name": "stdout"
        }
      ]
    }
  ]
}