{
  "nbformat": 4,
  "nbformat_minor": 0,
  "metadata": {
    "colab": {
      "name": "Question 4.ipynb",
      "provenance": [],
      "collapsed_sections": [],
      "mount_file_id": "1tYXzC63UFjquTOUiW8oxh_ygYLv3BUzJ",
      "authorship_tag": "ABX9TyM2hkeNe2J/az/UHmM8qqx+",
      "include_colab_link": true
    },
    "kernelspec": {
      "name": "python3",
      "display_name": "Python 3"
    }
  },
  "cells": [
    {
      "cell_type": "markdown",
      "metadata": {
        "id": "view-in-github",
        "colab_type": "text"
      },
      "source": [
        "<a href=\"https://colab.research.google.com/github/SanePai/Neural_Networks-Assignment-2/blob/main/Question_4.ipynb\" target=\"_parent\"><img src=\"https://colab.research.google.com/assets/colab-badge.svg\" alt=\"Open In Colab\"/></a>"
      ]
    },
    {
      "cell_type": "code",
      "metadata": {
        "colab": {
          "base_uri": "https://localhost:8080/"
        },
        "id": "Y8o9_WmxBmqC",
        "outputId": "54664148-01fb-4cb7-b8ef-5730834461e5"
      },
      "source": [
        "%cd \"/content/drive/MyDrive/NNFL/Assignment 2\"\n",
        "!ls"
      ],
      "execution_count": null,
      "outputs": [
        {
          "output_type": "stream",
          "text": [
            "/content/drive/.shortcut-targets-by-id/104/Assignment 2\n",
            "assignment2.pdf  data55.xlsx  input_a2.mat  label.mat\n",
            "class_label.mat  data5.mat    input.mat\n"
          ],
          "name": "stdout"
        }
      ]
    },
    {
      "cell_type": "code",
      "metadata": {
        "id": "8Ze7JX7SBrBx"
      },
      "source": [
        "import numpy as np\n",
        "from scipy.io import loadmat\n",
        "from sklearn.cluster import KMeans\n",
        "import random\n",
        "from sklearn.metrics import confusion_matrix as cm"
      ],
      "execution_count": null,
      "outputs": []
    },
    {
      "cell_type": "code",
      "metadata": {
        "id": "V9jnqDdDECAZ"
      },
      "source": [
        "f = loadmat('data5.mat')\n",
        "D = f['x']\n",
        "np.random.shuffle(D)"
      ],
      "execution_count": null,
      "outputs": []
    },
    {
      "cell_type": "code",
      "metadata": {
        "id": "CrdaRvMoGq9B"
      },
      "source": [
        "def init_data(data):\n",
        "    X = np.array(data[:2148, :-1], dtype = float)\n",
        "    y = np.array(data[:2148, -1], dtype = int)\n",
        "    X = (X - X.mean(axis = 0))/X.std(axis = 0)\n",
        "    return X, y\n",
        "\n",
        "def gaussian(x,center,sigma,beta):\n",
        "    #Gaussian Kernel\n",
        "    return np.exp(-beta * (np.linalg.norm(x - center)) ** 2)\n",
        "\n",
        "def multi_quadric(x, center, sigma, beta):\n",
        "    #Multi Quadratic Kernel\n",
        "    return ((np.linalg.norm(x - center)) ** 2 + sigma ** 2) ** 0.5\n",
        "\n",
        "def linear(x, center, sigma, beta):\n",
        "    #Linear Kernel\n",
        "    return np.linalg.norm(x - center)\n",
        "\n",
        "X_tot, y_tot = init_data(D)\n",
        "\n",
        "train_X = X_tot[ : 1600]\n",
        "train_y = y_tot[ : 1600]\n",
        "test_X = X_tot[1600 : 2148]\n",
        "test_y = y_tot[1600 : 2148]\n",
        "\n",
        "def fit_rbf(train_X, train_y, test_X, test_y):\n",
        "    km = KMeans(n_clusters=550)\n",
        "\n",
        "    y_km = km.fit_predict(train_X)\n",
        "    centers = km.cluster_centers_\n",
        "    labels = km.predict(train_X)\n",
        "\n",
        "    sigma = np.zeros((len(centers), 1))\n",
        "    beta = np.zeros((len(centers), 1))\n",
        "    cluster_size = np.zeros((len(centers), 1))\n",
        "\n",
        "    for i in range(len(train_X)):\n",
        "        sigma[labels[i]] += np.linalg.norm(train_X[i] - centers[labels[i]])\n",
        "        cluster_size[labels[i]] += 1\n",
        "\n",
        "    sigma /= cluster_size\n",
        "    beta = 1 / 2 * (sigma * sigma + 1e-6)\n",
        "\n",
        "    H = np.zeros((len(train_X), len(centers)))\n",
        "\n",
        "    for i in range(len(train_X)):\n",
        "        for j in range(len(centers)):\n",
        "            H[i, j] = linear(train_X[i], centers[j], sigma[j], beta[j])\n",
        "\n",
        "    W = np.dot(np.linalg.pinv(H), train_y)\n",
        "\n",
        "    #Test run\n",
        "    H_test = np.zeros([len(test_X), len(centers)])\n",
        "    for i in range(len(test_X)):\n",
        "        for j in range(len(centers)):\n",
        "            H_test[i, j] = linear(test_X[i], centers[j], sigma[j], beta[j])\n",
        "\n",
        "    y_pred = np.dot(H_test, W)\n",
        "    for i in range(len(y_pred)):\n",
        "        y_pred[i] = 1 if y_pred[i]>=0.5 else 0\n",
        "        \n",
        "    accuracy = 0    \n",
        "    for i in range(len(y_pred)):\n",
        "        if y_pred[i] == test_y[i]:\n",
        "            accuracy +=1\n",
        "    accuracy /= len(y_pred)\n",
        "    print(accuracy)\n",
        "    return y_pred, accuracy"
      ],
      "execution_count": null,
      "outputs": []
    },
    {
      "cell_type": "code",
      "metadata": {
        "colab": {
          "base_uri": "https://localhost:8080/"
        },
        "id": "_u6-FsdUBU3X",
        "outputId": "d3cb96ef-ff8c-42b9-94ac-fbbef0f4762f"
      },
      "source": [
        "y_pred, _ = fit_rbf(train_X, train_y, test_X, test_y)\n",
        "for i in range(len(y_pred)):\n",
        "    y_pred[i] = 1 if y_pred[i] > 0.5 else 0\n",
        "\n",
        "confmat = cm(test_y, y_pred)\n",
        "\n",
        "Accuracy = (confmat[0][0]+confmat[1][1])/len(y_pred)\n",
        "Sensitivity = (confmat[1][1])/(confmat[1][0] + confmat[1][1])\n",
        "Specificity = (confmat[0][0])/(confmat[0][0] + confmat[0][1])\n",
        "print(\"Confusion Matrix:\")\n",
        "print(confmat)\n",
        "print(\"\\n\")\n",
        "print(f\"Accuracy: {Accuracy}\\nSensitivity: {Sensitivity}\\nSpecificity: {Specificity}\\n\")\n",
        "\n",
        "avg_acc = 0\n",
        "# K - fold cross validation\n",
        "\n",
        "for k in range(6):\n",
        "    X = X_tot[0 : 1790]\n",
        "    y = y_tot[0 : 1790]\n",
        "    X_val = X_tot[1790 :]\n",
        "    y_val = y_tot[1790 :]\n",
        "    print(f'Fold {k+1}:')\n",
        "    print(\"Accuracy: \", end=\"\")\n",
        "    _, acc = fit_rbf(X, y, X_val, y_val)\n",
        "    print(\"===================\")\n",
        "    avg_acc += acc\n",
        "    X_tot[0 : 358] = X_val\n",
        "    X_tot[358 : ] = X\n",
        "    y_tot[0 : 358] = y_val\n",
        "    y_tot[358 : ] = y\n",
        "\n",
        "avg_acc /= 6\n",
        "print(f'\\nAverage Accuracy: {avg_acc}')"
      ],
      "execution_count": null,
      "outputs": [
        {
          "output_type": "stream",
          "text": [
            "0.9470802919708029\n",
            "Confusion Matrix:\n",
            "[[261  18]\n",
            " [ 11 258]]\n",
            "\n",
            "\n",
            "Accuracy: 0.9470802919708029\n",
            "Sensitivity: 0.9591078066914498\n",
            "Specificity: 0.9354838709677419\n",
            "\n",
            "Fold 1:\n",
            "Accuracy: 0.9413407821229051\n",
            "===================\n",
            "Fold 2:\n",
            "Accuracy: 0.952513966480447\n",
            "===================\n",
            "Fold 3:\n",
            "Accuracy: 0.9636871508379888\n",
            "===================\n",
            "Fold 4:\n",
            "Accuracy: 0.9553072625698324\n",
            "===================\n",
            "Fold 5:\n",
            "Accuracy: 0.946927374301676\n",
            "===================\n",
            "Fold 6:\n",
            "Accuracy: 0.9357541899441341\n",
            "===================\n",
            "\n",
            "Average Accuracy: 0.9492551210428305\n"
          ],
          "name": "stdout"
        }
      ]
    }
  ]
}