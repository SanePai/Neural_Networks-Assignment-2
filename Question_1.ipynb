{
  "nbformat": 4,
  "nbformat_minor": 0,
  "metadata": {
    "colab": {
      "name": "Question 1.ipynb",
      "provenance": [],
      "collapsed_sections": [],
      "mount_file_id": "1Aq5ZVJu2CVEalLigCG0ApBNKnwoNX_EJ",
      "authorship_tag": "ABX9TyMTR5xQC6dQ5vVW3z1ohmmh",
      "include_colab_link": true
    },
    "kernelspec": {
      "name": "python3",
      "display_name": "Python 3"
    }
  },
  "cells": [
    {
      "cell_type": "markdown",
      "metadata": {
        "id": "view-in-github",
        "colab_type": "text"
      },
      "source": [
        "<a href=\"https://colab.research.google.com/github/SanePai/Neural_Networks-Assignment-2/blob/main/Question_1.ipynb\" target=\"_parent\"><img src=\"https://colab.research.google.com/assets/colab-badge.svg\" alt=\"Open In Colab\"/></a>"
      ]
    },
    {
      "cell_type": "code",
      "metadata": {
        "id": "_d8h4xSYRlXL",
        "colab": {
          "base_uri": "https://localhost:8080/"
        },
        "outputId": "b0b7c690-d026-44bd-d9c9-ec547d92c65f"
      },
      "source": [
        "%cd \"/content/drive/My Drive/NNFL/Assignment 2\"\n",
        "!ls"
      ],
      "execution_count": 10,
      "outputs": [
        {
          "output_type": "stream",
          "text": [
            "/content/drive/.shortcut-targets-by-id/104/Assignment 2\n",
            "assignment2.pdf  data55.xlsx  input_a2.mat  label.mat\n",
            "class_label.mat  data5.mat    input.mat\n"
          ],
          "name": "stdout"
        }
      ]
    },
    {
      "cell_type": "code",
      "metadata": {
        "id": "NWj1bxEhT08n"
      },
      "source": [
        "import pandas as pd\n",
        "import random\n",
        "import numpy as np\n",
        "import matplotlib.pyplot as plt\n",
        "from sklearn.metrics import confusion_matrix as cm"
      ],
      "execution_count": 11,
      "outputs": []
    },
    {
      "cell_type": "code",
      "metadata": {
        "id": "jEsOgUE6Vgkt"
      },
      "source": [
        "D = pd.read_excel(\"data55.xlsx\")\n",
        "D = np.array(D)\n",
        "np.random.shuffle(D)\n",
        "X1 = D[:,:-1]\n",
        "Y1 = D[:,-1]\n",
        "X_ = X1.copy()\n",
        "X_ = (X_ - X_.mean())/X_.std() #Normalization of input features\n",
        "Y_ = Y1.copy()\n",
        "Y_ = [int(x) for x in Y_]\n",
        "m,n = np.shape(X_) #Number of instances and input neurons\n",
        "k = len(np.unique(Y_)) #Number of classes\n",
        "alpha = 0.01 #Learning Rate\n",
        "iter = 1000 #Number of iterations\n",
        "#Splitting the data into parts\n",
        "X, Y = X_[:int(0.7*m)], Y_[:int(0.7*m)]\n",
        "X_val, Y_val  = X_[int(0.7*m):int(0.8*m)], Y_[int(0.7*m):int(0.8*m)]\n",
        "X_test, Y_test = X_[int(0.8*m):], Y_[int(0.8*m):]\n",
        "m_test = int(0.7*m)"
      ],
      "execution_count": 12,
      "outputs": []
    },
    {
      "cell_type": "code",
      "metadata": {
        "id": "z82SGFRKeOkN"
      },
      "source": [
        "def sigmoid(n):\n",
        "  '''returns the element wise sigmoid value in list'''\n",
        "  return 1/(1+np.exp(n))\n",
        "\n",
        "def hypothesis(X,w,b, return_a = False):\n",
        "    '''Returns the Hypothesis\n",
        "        set return_U to True to calculate H\n",
        "    '''\n",
        "    a = []\n",
        "    hyp = []\n",
        "    m,n = np.shape(X)\n",
        "    for i in range(m):\n",
        "        sum = 0\n",
        "        for j in range(n):\n",
        "            sum = sum + w[j]*X[i][j]\n",
        "        sum = sum + b\n",
        "        hyp.append(1/(1+np.exp(-sum)))\n",
        "        a.append(sum)\n",
        "    if return_a:\n",
        "        return hyp,a\n",
        "    else:\n",
        "        return hyp\n",
        "\n",
        "def cost(Y,Y_pred):\n",
        "    '''Returns the cost'''\n",
        "    m = len(Y)\n",
        "    j = 0\n",
        "    for i in range(m):\n",
        "        j = j + 0.5*(Y_pred[i]-Y[i])**2\n",
        "    return j  \n",
        "\n",
        "\n",
        "def update(w,b,X,Y,Y_pred,alpha):\n",
        "    m,n = np.shape(X)\n",
        "    for i in range(m):\n",
        "        if Y[i] != Y_pred[i]:\n",
        "            for j in range(n):\n",
        "                w[j] = w[j] + (alpha*Y[i]*X[i][j])\n",
        "            b = b + (alpha*Y[i]) \n",
        "    return w,b"
      ],
      "execution_count": 13,
      "outputs": []
    },
    {
      "cell_type": "code",
      "metadata": {
        "id": "3Kqcqoknb7oJ",
        "colab": {
          "base_uri": "https://localhost:8080/"
        },
        "outputId": "f275add3-6a8f-41d8-a28d-e10260f1918f"
      },
      "source": [
        "#Initializing the weights and bias\n",
        "w = np.random.rand(n)\n",
        "b = np.random.rand()\n",
        "print(w,b)"
      ],
      "execution_count": 14,
      "outputs": [
        {
          "output_type": "stream",
          "text": [
            "[0.38602897 0.02491193 0.65835922 0.54222588] 0.5027065195692274\n"
          ],
          "name": "stdout"
        }
      ]
    },
    {
      "cell_type": "code",
      "metadata": {
        "id": "PS8LfdIjEO5g"
      },
      "source": [
        "for i in range(iter):\n",
        "    Y_pred = hypothesis(X,w,b)\n",
        "    Y_pred = [int(x) for x in Y_pred]\n",
        "    w,b = update(w,b,X,Y,Y_pred,alpha)"
      ],
      "execution_count": 15,
      "outputs": []
    },
    {
      "cell_type": "code",
      "metadata": {
        "colab": {
          "base_uri": "https://localhost:8080/"
        },
        "id": "f26F5bp1tjnP",
        "outputId": "d1afc616-39ce-4597-f2b2-c75c08869371"
      },
      "source": [
        "#Confusion Matrix for training\n",
        "confmat = cm(Y,Y_pred)\n",
        "Accuracy = (confmat[0][0]+confmat[1][1])/len(Y)\n",
        "Sensitivity = (confmat[1][1])/(confmat[1][0] + confmat[1][1])\n",
        "Specificity = (confmat[0][0])/(confmat[0][0] + confmat[0][1])\n",
        "\n",
        "print(f\"Accuracy: {Accuracy}\\nSensitivity: {Sensitivity}\\nSpecificity: {Specificity}\")"
      ],
      "execution_count": 16,
      "outputs": [
        {
          "output_type": "stream",
          "text": [
            "Accuracy: 0.9130434782608695\n",
            "Sensitivity: 1.0\n",
            "Specificity: 0.8285714285714286\n"
          ],
          "name": "stdout"
        }
      ]
    },
    {
      "cell_type": "code",
      "metadata": {
        "colab": {
          "base_uri": "https://localhost:8080/"
        },
        "id": "OwKcuEvNwH5c",
        "outputId": "07fc9ca6-9ff8-4f4e-9e95-663a480d5b0d"
      },
      "source": [
        "#Validation\n",
        "Y_pred = [int(x) for x in hypothesis(X_val,w,b)]\n",
        "confmat = cm(Y_val,Y_pred)\n",
        "\n",
        "Accuracy = (confmat[0][0]+confmat[1][1])/len(Y_val)\n",
        "Sensitivity = (confmat[1][1])/(confmat[1][0] + confmat[1][1])\n",
        "Specificity = (confmat[0][0])/(confmat[0][0] + confmat[0][1])\n",
        "\n",
        "print(f\"Accuracy: {Accuracy}\\nSensitivity: {Sensitivity}\\nSpecificity: {Specificity}\")"
      ],
      "execution_count": 17,
      "outputs": [
        {
          "output_type": "stream",
          "text": [
            "Accuracy: 1.0\n",
            "Sensitivity: 1.0\n",
            "Specificity: 1.0\n"
          ],
          "name": "stdout"
        }
      ]
    },
    {
      "cell_type": "code",
      "metadata": {
        "colab": {
          "base_uri": "https://localhost:8080/"
        },
        "id": "_SiCkhWtwlU5",
        "outputId": "d3d5b24d-8e8e-43ba-aed8-0471ece4c3b3"
      },
      "source": [
        "#Testing\n",
        "Y_pred = [int(x) for x in hypothesis(X_test,w,b)]\n",
        "confmat = cm(Y_test,Y_pred)\n",
        "\n",
        "Accuracy = (confmat[0][0]+confmat[1][1])/len(Y_test)\n",
        "Sensitivity = (confmat[1][1])/(confmat[1][0] + confmat[1][1])\n",
        "Specificity = (confmat[0][0])/(confmat[0][0] + confmat[0][1])\n",
        "\n",
        "print(f\"Accuracy: {Accuracy}\\nSensitivity: {Sensitivity}\\nSpecificity: {Specificity}\")"
      ],
      "execution_count": 18,
      "outputs": [
        {
          "output_type": "stream",
          "text": [
            "Accuracy: 0.9\n",
            "Sensitivity: 1.0\n",
            "Specificity: 0.75\n"
          ],
          "name": "stdout"
        }
      ]
    }
  ]
}