{
  "nbformat": 4,
  "nbformat_minor": 0,
  "metadata": {
    "colab": {
      "name": "Question 1.ipynb",
      "provenance": [],
      "collapsed_sections": [],
      "mount_file_id": "1Aq5ZVJu2CVEalLigCG0ApBNKnwoNX_EJ",
      "authorship_tag": "ABX9TyMMPqhEWQ9dHgFjlTUsYxtp",
      "include_colab_link": true
    },
    "kernelspec": {
      "name": "python3",
      "display_name": "Python 3"
    },
    "accelerator": "GPU"
  },
  "cells": [
    {
      "cell_type": "markdown",
      "metadata": {
        "id": "view-in-github",
        "colab_type": "text"
      },
      "source": [
        "<a href=\"https://colab.research.google.com/github/SanePai/Neural_Networks-Assignment-2/blob/main/Question_1.ipynb\" target=\"_parent\"><img src=\"https://colab.research.google.com/assets/colab-badge.svg\" alt=\"Open In Colab\"/></a>"
      ]
    },
    {
      "cell_type": "code",
      "metadata": {
        "id": "_d8h4xSYRlXL",
        "colab": {
          "base_uri": "https://localhost:8080/"
        },
        "outputId": "0e3e0606-e0e9-4b7f-afc4-d0edbb1e0daa"
      },
      "source": [
        "%cd \"/content/drive/My Drive/NNFL/Assignment 2\"\n",
        "!ls"
      ],
      "execution_count": 37,
      "outputs": [
        {
          "output_type": "stream",
          "text": [
            "/content/drive/.shortcut-targets-by-id/104/Assignment 2\n",
            "assignment2.pdf  class2_images\tclass_label.mat  data5.mat     input.mat\n",
            "class1_images\t class3_images\tdata55.xlsx\t input_a2.mat  label.mat\n"
          ],
          "name": "stdout"
        }
      ]
    },
    {
      "cell_type": "code",
      "metadata": {
        "id": "NWj1bxEhT08n"
      },
      "source": [
        "import pandas as pd\n",
        "import random\n",
        "import numpy as np\n",
        "import matplotlib.pyplot as plt\n",
        "from sklearn.metrics import confusion_matrix as cm"
      ],
      "execution_count": 38,
      "outputs": []
    },
    {
      "cell_type": "code",
      "metadata": {
        "id": "jEsOgUE6Vgkt"
      },
      "source": [
        "D = pd.read_excel(\"data55.xlsx\")\n",
        "D = np.array(D)\n",
        "np.random.shuffle(D)\n",
        "X1 = D[:,:-1]\n",
        "Y1 = D[:,-1]\n",
        "X_ = X1.copy()\n",
        "X_ = (X_ - X_.mean())/X_.std() #Normalization of input features\n",
        "Y_ = Y1.copy()\n",
        "Y_ = [int(x) for x in Y_]\n",
        "m,n = np.shape(X_) #Number of instances and input neurons\n",
        "k = len(np.unique(Y_)) #Number of classes\n",
        "alpha = 0.01 #Learning Rate\n",
        "iter = 1000 #Number of iterations\n",
        "#Splitting the data into parts\n",
        "X, Y = X_[:int(0.7*m)], Y_[:int(0.7*m)]\n",
        "X_val, Y_val  = X_[int(0.7*m):int(0.8*m)], Y_[int(0.7*m):int(0.8*m)]\n",
        "X_test, Y_test = X_[int(0.8*m):], Y_[int(0.8*m):]\n",
        "m_test = int(0.7*m)"
      ],
      "execution_count": 39,
      "outputs": []
    },
    {
      "cell_type": "code",
      "metadata": {
        "id": "z82SGFRKeOkN"
      },
      "source": [
        "def sigmoid(n):\n",
        "  '''returns the element wise sigmoid value in list'''\n",
        "  return 1/(1+np.exp(n))\n",
        "\n",
        "def hypothesis(X,w,b, return_a = False):\n",
        "    '''Returns the Hypothesis\n",
        "        set return_U to True to calculate H\n",
        "    '''\n",
        "    a = []\n",
        "    hyp = []\n",
        "    m,n = np.shape(X)\n",
        "    for i in range(m):\n",
        "        sum = 0\n",
        "        for j in range(n):\n",
        "            sum = sum + w[j]*X[i][j]\n",
        "        sum = sum + b\n",
        "        hyp.append(1/(1+np.exp(-sum)))\n",
        "        a.append(sum)\n",
        "    if return_a:\n",
        "        return hyp,a\n",
        "    else:\n",
        "        return hyp\n",
        "\n",
        "def cost(Y,Y_pred):\n",
        "    '''Returns the cost'''\n",
        "    m = len(Y)\n",
        "    j = 0\n",
        "    for i in range(m):\n",
        "        j = j + 0.5*(Y_pred[i]-Y[i])**2\n",
        "    return j  \n",
        "\n",
        "\n",
        "def update(w,b,X,Y,Y_pred,alpha):\n",
        "    m,n = np.shape(X)\n",
        "    for i in range(m):\n",
        "        if Y[i] != Y_pred[i]:\n",
        "            for j in range(n):\n",
        "                w[j] = w[j] + (alpha*Y[i]*X[i][j])\n",
        "            b = b + (alpha*Y[i]) \n",
        "    return w,b"
      ],
      "execution_count": 40,
      "outputs": []
    },
    {
      "cell_type": "code",
      "metadata": {
        "id": "3Kqcqoknb7oJ",
        "colab": {
          "base_uri": "https://localhost:8080/"
        },
        "outputId": "be5b2b6d-de04-464b-d4f7-7efbb8792865"
      },
      "source": [
        "#Initializing the weights and bias\n",
        "w = np.random.rand(n)\n",
        "b = np.random.rand()\n",
        "print(w,b)"
      ],
      "execution_count": 41,
      "outputs": [
        {
          "output_type": "stream",
          "text": [
            "[0.75765506 0.1714139  0.36670951 0.52467527] 0.4513902380975088\n"
          ],
          "name": "stdout"
        }
      ]
    },
    {
      "cell_type": "code",
      "metadata": {
        "id": "PS8LfdIjEO5g"
      },
      "source": [
        "for i in range(iter):\n",
        "    Y_pred = hypothesis(X,w,b)\n",
        "    Y_pred = [int(x) for x in Y_pred]\n",
        "    w,b = update(w,b,X,Y,Y_pred,alpha)"
      ],
      "execution_count": 42,
      "outputs": []
    },
    {
      "cell_type": "code",
      "metadata": {
        "colab": {
          "base_uri": "https://localhost:8080/"
        },
        "id": "f26F5bp1tjnP",
        "outputId": "d878a99d-cd76-4095-a4a4-ada840977d70"
      },
      "source": [
        "#Confusion Matrix for training\n",
        "confmat = cm(Y,Y_pred)\n",
        "Accuracy = (confmat[0][0]+confmat[1][1])/len(Y)\n",
        "Sensitivity = (confmat[1][1])/(confmat[1][0] + confmat[1][1])\n",
        "Specificity = (confmat[0][0])/(confmat[0][0] + confmat[0][1])\n",
        "\n",
        "print(f\"Accuracy: {Accuracy*100}%\\nSensitivity: {Sensitivity}\\nSpecificity: {Specificity}\")"
      ],
      "execution_count": 43,
      "outputs": [
        {
          "output_type": "stream",
          "text": [
            "Accuracy: 89.85507246376811%\n",
            "Sensitivity: 1.0\n",
            "Specificity: 0.8157894736842105\n"
          ],
          "name": "stdout"
        }
      ]
    },
    {
      "cell_type": "code",
      "metadata": {
        "colab": {
          "base_uri": "https://localhost:8080/"
        },
        "id": "OwKcuEvNwH5c",
        "outputId": "209cb411-6d88-485d-a458-e0dc6d276cc4"
      },
      "source": [
        "#Validation\n",
        "Y_pred = [int(x) for x in hypothesis(X_val,w,b)]\n",
        "confmat = cm(Y_val,Y_pred)\n",
        "\n",
        "Accuracy = (confmat[0][0]+confmat[1][1])/len(Y_val)\n",
        "Sensitivity = (confmat[1][1])/(confmat[1][0] + confmat[1][1])\n",
        "Specificity = (confmat[0][0])/(confmat[0][0] + confmat[0][1])\n",
        "\n",
        "print(f\"Accuracy: {Accuracy*100}%\\nSensitivity: {Sensitivity}\\nSpecificity: {Specificity}\")"
      ],
      "execution_count": 44,
      "outputs": [
        {
          "output_type": "stream",
          "text": [
            "Accuracy: 90.0%\n",
            "Sensitivity: 1.0\n",
            "Specificity: 0.6666666666666666\n"
          ],
          "name": "stdout"
        }
      ]
    },
    {
      "cell_type": "code",
      "metadata": {
        "colab": {
          "base_uri": "https://localhost:8080/"
        },
        "id": "_SiCkhWtwlU5",
        "outputId": "adb1c8e0-002f-4fe9-d388-17da3a4993c8"
      },
      "source": [
        "#Testing\n",
        "Y_pred = [int(x) for x in hypothesis(X_test,w,b)]\n",
        "confmat = cm(Y_test,Y_pred)\n",
        "\n",
        "Accuracy = (confmat[0][0]+confmat[1][1])/len(Y_test)\n",
        "Sensitivity = (confmat[1][1])/(confmat[1][0] + confmat[1][1])\n",
        "Specificity = (confmat[0][0])/(confmat[0][0] + confmat[0][1])\n",
        "\n",
        "print(f\"Accuracy: {Accuracy*100}%\\nSensitivity: {Sensitivity}\\nSpecificity: {Specificity}\")"
      ],
      "execution_count": 45,
      "outputs": [
        {
          "output_type": "stream",
          "text": [
            "Accuracy: 90.0%\n",
            "Sensitivity: 1.0\n",
            "Specificity: 0.75\n"
          ],
          "name": "stdout"
        }
      ]
    }
  ]
}