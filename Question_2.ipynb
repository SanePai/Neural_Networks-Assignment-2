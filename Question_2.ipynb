{
  "nbformat": 4,
  "nbformat_minor": 0,
  "metadata": {
    "colab": {
      "name": "Question 2.ipynb",
      "provenance": [],
      "collapsed_sections": [],
      "mount_file_id": "1faT1cah6dytmsr5Bx69zcGYeaL_CkBbU",
      "authorship_tag": "ABX9TyPGMO/qznSHufl7DhACFm4s",
      "include_colab_link": true
    },
    "kernelspec": {
      "name": "python3",
      "display_name": "Python 3"
    },
    "accelerator": "GPU"
  },
  "cells": [
    {
      "cell_type": "markdown",
      "metadata": {
        "id": "view-in-github",
        "colab_type": "text"
      },
      "source": [
        "<a href=\"https://colab.research.google.com/github/SanePai/Neural_Networks-Assignment-2/blob/main/Question_2.ipynb\" target=\"_parent\"><img src=\"https://colab.research.google.com/assets/colab-badge.svg\" alt=\"Open In Colab\"/></a>"
      ]
    },
    {
      "cell_type": "code",
      "metadata": {
        "colab": {
          "base_uri": "https://localhost:8080/"
        },
        "id": "IplT1w4nxhJb",
        "outputId": "b4d10879-b5e8-445f-bf2a-e77d1a82b40f"
      },
      "source": [
        "%cd \"/content/drive/My Drive/NNFL/Assignment 2\"\n",
        "!ls"
      ],
      "execution_count": 1,
      "outputs": [
        {
          "output_type": "stream",
          "text": [
            "/content/drive/.shortcut-targets-by-id/104/Assignment 2\n",
            "assignment2.pdf  class2_images\tclass_label.mat  data5.mat     input.mat\n",
            "class1_images\t class3_images\tdata55.xlsx\t input_a2.mat  label.mat\n"
          ],
          "name": "stdout"
        }
      ]
    },
    {
      "cell_type": "code",
      "metadata": {
        "id": "7z2if7oliqQF"
      },
      "source": [
        "import pandas as pd\n",
        "import random\n",
        "import numpy as np\n",
        "import matplotlib.pyplot as plt\n",
        "from sklearn.metrics import confusion_matrix as cm\n",
        "from sklearn.model_selection import train_test_split"
      ],
      "execution_count": 2,
      "outputs": []
    },
    {
      "cell_type": "code",
      "metadata": {
        "id": "K5TjDaRTImUW"
      },
      "source": [
        "df = pd.read_excel('data55.xlsx', header=None)\n",
        "df = df.values\n",
        "p = np.linspace(0, 99, 100)\n",
        "np.random.shuffle(df)\n",
        "\n",
        "X_ = df[:,:-1]\n",
        "Y = df[:,-1]\n",
        "X = (X_ - X_.mean()) / X_.std()\n",
        "for i in range(len(X)):\n",
        "    if (Y[i] == 0):\n",
        "        Y[i] = -1\n",
        "\n",
        "X_train, X_test, Y_train, Y_test = train_test_split(X, Y, test_size=0.3, random_state=0)"
      ],
      "execution_count": 3,
      "outputs": []
    },
    {
      "cell_type": "code",
      "metadata": {
        "id": "PNXSp96OEAg-"
      },
      "source": [
        "y = np.zeros((1, len(X_train)))\n",
        "alpa = np.zeros((1, len(X_train)))\n",
        "t = 200\n",
        "k = np.zeros((len(X_train), len(X_train)))\n",
        "\n",
        "for i in range(len(X_train)):\n",
        "    for j in range(len(X_train)):\n",
        "        p = X_train[i] * X_train[j]\n",
        "        k[i, j] = p.sum()\n",
        "\n",
        "for i in range(t):\n",
        "    for j in range(len(X_train)):\n",
        "        for c in range(len(X_train)):\n",
        "            y[0, j] = y[0, j] + alpa[0, c] * Y_train[c] * k[c, j]\n",
        "        y[0, j] = np.sign(y[0, j])\n",
        "        if (y[0, j] != Y[j]):\n",
        "            alpa[0, j] = alpa[0, j] + 1\n",
        "\n",
        "Kte = np.zeros((len(X_test), len(X_train)))\n",
        "for i in range(len(X_test)):\n",
        "    for j in range(len(X_train)):\n",
        "        l = X_test[i] * X_train[j]\n",
        "        Kte[i, j] = l.sum()\n",
        "\n",
        "Y_pred = np.zeros((1, len(X_test)))\n",
        "for z in range(len(X_test)):\n",
        "    for c in range(len(X_train)):\n",
        "        Y_pred[0, z] = Y_pred[0, z] + alpa[0, c] * Y_train[c] * Kte[z, c]\n",
        "    Y_pred[0, z] = np.sign(Y_pred[0, z])\n",
        "\n",
        "for i in range(len(Y_test)):\n",
        "    if (Y_test[i] == -1):\n",
        "        Y_test[i] = 0\n",
        "\n",
        "for i in range(len(Y_test)):\n",
        "    if (Y_pred[0, i] == -1):\n",
        "        Y_pred[0, i] = -0\n",
        "\n"
      ],
      "execution_count": 4,
      "outputs": []
    },
    {
      "cell_type": "code",
      "metadata": {
        "colab": {
          "base_uri": "https://localhost:8080/"
        },
        "id": "IHf3E80OIso3",
        "outputId": "ac13e7fd-1124-4eed-a60c-b4249044abcc"
      },
      "source": [
        "Y_pred = Y_pred[0]\n",
        "confmat = cm(Y_test, Y_pred)\n",
        "Accuracy = (confmat[0][0]+confmat[1][1])/len(Y_pred)\n",
        "Sensitivity = (confmat[1][1])/(confmat[1][0] + confmat[1][1])\n",
        "Specificity = (confmat[0][0])/(confmat[0][0] + confmat[0][1])\n",
        "print(\"Confusion Matrix:\")\n",
        "print(confmat)\n",
        "print(\"\\n\")\n",
        "print(f\"Accuracy: {Accuracy*100}%\\nSensitivity: {Sensitivity}\\nSpecificity: {Specificity}\\n\")"
      ],
      "execution_count": 5,
      "outputs": [
        {
          "output_type": "stream",
          "text": [
            "Confusion Matrix:\n",
            "[[18  0]\n",
            " [ 0 12]]\n",
            "\n",
            "\n",
            "Accuracy: 100.0%\n",
            "Sensitivity: 1.0\n",
            "Specificity: 1.0\n",
            "\n"
          ],
          "name": "stdout"
        }
      ]
    }
  ]
}