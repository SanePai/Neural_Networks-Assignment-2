{
  "nbformat": 4,
  "nbformat_minor": 0,
  "metadata": {
    "colab": {
      "name": "Question 6.ipynb",
      "provenance": [],
      "collapsed_sections": [],
      "mount_file_id": "12P4u1_Nlcl3KYPwmkbYjT19zx6OKVeMR",
      "authorship_tag": "ABX9TyPGTpoABxEi4J9kPM7ff9+M",
      "include_colab_link": true
    },
    "kernelspec": {
      "name": "python3",
      "display_name": "Python 3"
    },
    "accelerator": "GPU"
  },
  "cells": [
    {
      "cell_type": "markdown",
      "metadata": {
        "id": "view-in-github",
        "colab_type": "text"
      },
      "source": [
        "<a href=\"https://colab.research.google.com/github/SanePai/Neural_Networks-Assignment-2/blob/main/Question_6.ipynb\" target=\"_parent\"><img src=\"https://colab.research.google.com/assets/colab-badge.svg\" alt=\"Open In Colab\"/></a>"
      ]
    },
    {
      "cell_type": "code",
      "metadata": {
        "colab": {
          "base_uri": "https://localhost:8080/"
        },
        "id": "TTaOj4TnsKO2",
        "outputId": "7ae41614-76ea-4bc8-aa48-092e5faa1653"
      },
      "source": [
        "%cd \"/content/drive/MyDrive/NNFL/Assignment 2\"\n",
        "!ls"
      ],
      "execution_count": 9,
      "outputs": [
        {
          "output_type": "stream",
          "text": [
            "/content/drive/.shortcut-targets-by-id/104/Assignment 2\n",
            "assignment2.pdf  class2_images\tclass_label.mat  data5.mat     input.mat\n",
            "class1_images\t class3_images\tdata55.xlsx\t input_a2.mat  label.mat\n"
          ],
          "name": "stdout"
        }
      ]
    },
    {
      "cell_type": "code",
      "metadata": {
        "id": "ITLzPFcDsHQp"
      },
      "source": [
        "import numpy as np \n",
        "from scipy.io import loadmat\n",
        "from sklearn.preprocessing import normalize\n",
        "import random\n",
        "from sklearn.metrics import confusion_matrix as cm"
      ],
      "execution_count": 10,
      "outputs": []
    },
    {
      "cell_type": "code",
      "metadata": {
        "id": "UDRvJ4f9sPN1"
      },
      "source": [
        "#Gaussian activation function\n",
        "def gaussian(X, a, b):   \n",
        "    K = np.zeros((X.shape[0], hidden_neurons))\n",
        "    for i in range(K.shape[0]):\n",
        "        for j in range(K.shape[1]):\n",
        "            K[i,j] = np.exp(-b[j] * np.linalg.norm(a[:,j] - X[i,:]))  \n",
        "    return K\n",
        "\n",
        "#Tanh activation function\n",
        "def tanh(X):\n",
        "    return np.tanh(X)\n",
        "\n",
        "#Load data, shuffle and normalize\n",
        "def init_data(data):\n",
        "    X = np.array(data[ : , :-1], dtype = float)\n",
        "    y = np.array(data[ : , -1], dtype = int)\n",
        "    X = normalize(X, axis = 0)\n",
        "    return X, y"
      ],
      "execution_count": 11,
      "outputs": []
    },
    {
      "cell_type": "code",
      "metadata": {
        "id": "QmXO2vwYtV5Z"
      },
      "source": [
        "f = loadmat('data5.mat')\n",
        "D = f['x']\n",
        "np.random.shuffle(D)\n",
        "\n",
        "X_tot, y_tot = init_data(D)\n",
        "X_tot = np.insert(X_tot, 0, 1, axis=1)\n",
        "\n",
        "#Generate labels matrix\n",
        "labels = D[:, -1]\n",
        "y = np.zeros([len(X_tot), 2])"
      ],
      "execution_count": 12,
      "outputs": []
    },
    {
      "cell_type": "code",
      "metadata": {
        "id": "lQhaby4SqwnU"
      },
      "source": [
        "for i in range(len(labels)):\n",
        "    if labels[i] == 1:\n",
        "        y[i,1] = 1.0\n",
        "    elif labels[i] == 0:\n",
        "        y[i,0] = 1.0\n",
        "\n",
        "hidden_neurons = 400\n",
        "output_neurons = 2"
      ],
      "execution_count": 13,
      "outputs": []
    },
    {
      "cell_type": "code",
      "metadata": {
        "colab": {
          "base_uri": "https://localhost:8080/"
        },
        "id": "GrmTeHWY7Xr1",
        "outputId": "f308db02-f852-4815-ab28-1132ed95517d"
      },
      "source": [
        "#K fold cross validation\n",
        "#Gaussian activation function\n",
        "print(\"Gaussian accuracies: \")\n",
        "acc = 0\n",
        "for k in range(5):\n",
        "\n",
        "    X_train = X_tot[0 : 1718]\n",
        "    y_train = y[0 : 1718]\n",
        "    X_val = X_tot[1718 :]\n",
        "    y_val = y[1718 :]\n",
        "    \n",
        "    a = np.random.rand(X_train.shape[1], hidden_neurons) \n",
        "    b = np.random.rand(hidden_neurons)\n",
        "    \n",
        "    # Training \n",
        "    H = gaussian(X_train, a, b)\n",
        "    H_inv = np.linalg.pinv(H)\n",
        "    W2 = np.matmul(H_inv, y_train)\n",
        "    \n",
        "    # Testing\n",
        "    H_T = gaussian(X_val, a, b)\n",
        "    y_pred = np.matmul(H_T, W2)\n",
        "    \n",
        "    print(f'Fold {k+1}:\\n')\n",
        "    a = [np.argmax(y_pred[i]) for i in range(len(y_pred))]\n",
        "    b= [np.argmax(y_val[i]) for i in range(len(y_val))]\n",
        "    confmat = cm(b,a)\n",
        "    print(\"Confusion Matrix:\\n\")\n",
        "    print(confmat)\n",
        "    Accuracy = (confmat[0][0]+confmat[1][1])/len(y_val)\n",
        "    acc += Accuracy\n",
        "    Sensitivity = (confmat[1][1])/(confmat[1][0] + confmat[1][1])\n",
        "    Specificity = (confmat[0][0])/(confmat[0][0] + confmat[0][1])\n",
        "    print(f\"Accuracy: {Accuracy}\\nSensitivity: {Sensitivity}\\nSpecificity: {Specificity}\")\n",
        "    print(\"=============================================\")\n",
        "\n",
        "    X_tot[0 : 430] = X_val\n",
        "    X_tot[430 : ] = X_train\n",
        "    y[0 : 430] = y_val\n",
        "    y[430 : ] = y_train\n",
        "\n",
        "print(f\"Overall Accuracy: {acc*100/5}%\")"
      ],
      "execution_count": 14,
      "outputs": [
        {
          "output_type": "stream",
          "text": [
            "Gaussian accuracies: \n",
            "Fold 1:\n",
            "\n",
            "Confusion Matrix:\n",
            "\n",
            "[[187  21]\n",
            " [ 14 208]]\n",
            "Accuracy: 0.9186046511627907\n",
            "Sensitivity: 0.9369369369369369\n",
            "Specificity: 0.8990384615384616\n",
            "=============================================\n",
            "Fold 2:\n",
            "\n",
            "Confusion Matrix:\n",
            "\n",
            "[[182  38]\n",
            " [ 16 194]]\n",
            "Accuracy: 0.8744186046511628\n",
            "Sensitivity: 0.9238095238095239\n",
            "Specificity: 0.8272727272727273\n",
            "=============================================\n",
            "Fold 3:\n",
            "\n",
            "Confusion Matrix:\n",
            "\n",
            "[[205  24]\n",
            " [ 20 181]]\n",
            "Accuracy: 0.8976744186046511\n",
            "Sensitivity: 0.900497512437811\n",
            "Specificity: 0.8951965065502183\n",
            "=============================================\n",
            "Fold 4:\n",
            "\n",
            "Confusion Matrix:\n",
            "\n",
            "[[190  25]\n",
            " [ 21 194]]\n",
            "Accuracy: 0.8930232558139535\n",
            "Sensitivity: 0.9023255813953488\n",
            "Specificity: 0.8837209302325582\n",
            "=============================================\n",
            "Fold 5:\n",
            "\n",
            "Confusion Matrix:\n",
            "\n",
            "[[181  27]\n",
            " [ 20 202]]\n",
            "Accuracy: 0.8906976744186047\n",
            "Sensitivity: 0.9099099099099099\n",
            "Specificity: 0.8701923076923077\n",
            "=============================================\n",
            "Overall Accuracy: 89.48837209302326%\n"
          ],
          "name": "stdout"
        }
      ]
    },
    {
      "cell_type": "code",
      "metadata": {
        "colab": {
          "base_uri": "https://localhost:8080/"
        },
        "id": "nHhZD2G55z-b",
        "outputId": "fd90e125-eea8-413d-c948-f693981a521b"
      },
      "source": [
        "#Tanh activation function\n",
        "y_pred_full = []\n",
        "print(\"Tanh accuracies:\\n\")\n",
        "acc = 0\n",
        "for k in range(5):\n",
        "    \n",
        "    X_train = X_tot[0 : 1718]\n",
        "    y_train = y[0 : 1718]\n",
        "    X_val = X_tot[1718 :]\n",
        "    y_val = y[1718 :]\n",
        "    \n",
        "    a = np.random.rand(X_train.shape[1],hidden_neurons) \n",
        "    b = np.random.rand(hidden_neurons)\n",
        "    \n",
        "    # Training \n",
        "    H = tanh(X_train)\n",
        "    H_inv = np.linalg.pinv(H)\n",
        "    W2 = np.matmul(H_inv, y_train)\n",
        "    \n",
        "    # Testing\n",
        "    H_T = tanh(X_val)\n",
        "    y_pred = np.matmul(H_T, W2)\n",
        "    \n",
        "\n",
        "    # for p in range(len(y_pred)):\n",
        "    #     if np.argmax(y_pred[p]) == np.argmax(y_val[p]):\n",
        "    #         accuracy += 1\n",
        "    #     y_pred_full.append(np.argmax(y_pred[p]))\n",
        "    # accuracy = accuracy / len(y_pred)\n",
        "\n",
        "    print(f'Fold {k+1}:\\n')\n",
        "    a = [np.argmax(y_pred[i]) for i in range(len(y_pred))]\n",
        "    b= [np.argmax(y_val[i]) for i in range(len(y_val))]\n",
        "    confmat = cm(b,a)\n",
        "    print(\"Confusion Matrix:\\n\")\n",
        "    print(confmat)\n",
        "    Accuracy = (confmat[0][0]+confmat[1][1])/len(y_val)\n",
        "    acc += Accuracy\n",
        "    Sensitivity = (confmat[1][1])/(confmat[1][0] + confmat[1][1])\n",
        "    Specificity = (confmat[0][0])/(confmat[0][0] + confmat[0][1])\n",
        "    print(f\"Accuracy: {Accuracy}\\nSensitivity: {Sensitivity}\\nSpecificity: {Specificity}\")\n",
        "    print(\"=============================================\")\n",
        "    \n",
        "\n",
        "    X_tot[0 : 430] = X_val\n",
        "    X_tot[430 : ] = X_train\n",
        "    y[0 : 430] = y_val\n",
        "    y[430 : ] = y_train\n",
        "print(f\"Overall Accuracy: {acc*100/5}%\")"
      ],
      "execution_count": 15,
      "outputs": [
        {
          "output_type": "stream",
          "text": [
            "Tanh accuracies:\n",
            "\n",
            "Fold 1:\n",
            "\n",
            "Confusion Matrix:\n",
            "\n",
            "[[185  36]\n",
            " [ 24 185]]\n",
            "Accuracy: 0.8604651162790697\n",
            "Sensitivity: 0.8851674641148325\n",
            "Specificity: 0.8371040723981901\n",
            "=============================================\n",
            "Fold 2:\n",
            "\n",
            "Confusion Matrix:\n",
            "\n",
            "[[184  43]\n",
            " [ 34 169]]\n",
            "Accuracy: 0.8209302325581396\n",
            "Sensitivity: 0.8325123152709359\n",
            "Specificity: 0.8105726872246696\n",
            "=============================================\n",
            "Fold 3:\n",
            "\n",
            "Confusion Matrix:\n",
            "\n",
            "[[185  31]\n",
            " [ 29 185]]\n",
            "Accuracy: 0.8604651162790697\n",
            "Sensitivity: 0.8644859813084113\n",
            "Specificity: 0.8564814814814815\n",
            "=============================================\n",
            "Fold 4:\n",
            "\n",
            "Confusion Matrix:\n",
            "\n",
            "[[171  36]\n",
            " [ 41 182]]\n",
            "Accuracy: 0.8209302325581396\n",
            "Sensitivity: 0.8161434977578476\n",
            "Specificity: 0.8260869565217391\n",
            "=============================================\n",
            "Fold 5:\n",
            "\n",
            "Confusion Matrix:\n",
            "\n",
            "[[186  36]\n",
            " [ 24 184]]\n",
            "Accuracy: 0.8604651162790697\n",
            "Sensitivity: 0.8846153846153846\n",
            "Specificity: 0.8378378378378378\n",
            "=============================================\n",
            "Overall Accuracy: 84.46511627906978%\n"
          ],
          "name": "stdout"
        }
      ]
    }
  ]
}