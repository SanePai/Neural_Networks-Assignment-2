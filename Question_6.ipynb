{
  "nbformat": 4,
  "nbformat_minor": 0,
  "metadata": {
    "colab": {
      "name": "Question 6.ipynb",
      "provenance": [],
      "collapsed_sections": [],
      "mount_file_id": "12P4u1_Nlcl3KYPwmkbYjT19zx6OKVeMR",
      "authorship_tag": "ABX9TyOeokupDi9SGH7J3atxbTYK",
      "include_colab_link": true
    },
    "kernelspec": {
      "name": "python3",
      "display_name": "Python 3"
    }
  },
  "cells": [
    {
      "cell_type": "markdown",
      "metadata": {
        "id": "view-in-github",
        "colab_type": "text"
      },
      "source": [
        "<a href=\"https://colab.research.google.com/github/SanePai/Neural_Networks-Assignment-2/blob/main/Question_6.ipynb\" target=\"_parent\"><img src=\"https://colab.research.google.com/assets/colab-badge.svg\" alt=\"Open In Colab\"/></a>"
      ]
    },
    {
      "cell_type": "code",
      "metadata": {
        "colab": {
          "base_uri": "https://localhost:8080/"
        },
        "id": "TTaOj4TnsKO2",
        "outputId": "f477f215-680a-45fd-b01f-192e28c53938"
      },
      "source": [
        "%cd \"/content/drive/MyDrive/NNFL/Assignment 2\"\n",
        "!ls"
      ],
      "execution_count": null,
      "outputs": [
        {
          "output_type": "stream",
          "text": [
            "/content/drive/.shortcut-targets-by-id/104/Assignment 2\n",
            "assignment2.pdf  data55.xlsx  input_a2.mat  label.mat\n",
            "class_label.mat  data5.mat    input.mat\n"
          ],
          "name": "stdout"
        }
      ]
    },
    {
      "cell_type": "code",
      "metadata": {
        "id": "ITLzPFcDsHQp"
      },
      "source": [
        "import numpy as np \n",
        "from scipy.io import loadmat\n",
        "from sklearn.preprocessing import normalize\n",
        "import random\n",
        "from sklearn.metrics import confusion_matrix as cm"
      ],
      "execution_count": null,
      "outputs": []
    },
    {
      "cell_type": "code",
      "metadata": {
        "id": "UDRvJ4f9sPN1"
      },
      "source": [
        "#Gaussian activation function\n",
        "def gaussian(X, a, b):   \n",
        "    K = np.zeros((X.shape[0], hidden_neurons))\n",
        "    for i in range(K.shape[0]):\n",
        "        for j in range(K.shape[1]):\n",
        "            K[i,j] = np.exp(-b[j] * np.linalg.norm(a[:,j] - X[i,:]))  \n",
        "    return K\n",
        "\n",
        "#Tanh activation function\n",
        "def tanh(X):\n",
        "    return np.tanh(X)\n",
        "\n",
        "#Load data, shuffle and normalize\n",
        "def init_data(data):\n",
        "    X = np.array(data[ : , :-1], dtype = float)\n",
        "    y = np.array(data[ : , -1], dtype = int)\n",
        "    X = normalize(X, axis = 0)\n",
        "    return X, y"
      ],
      "execution_count": null,
      "outputs": []
    },
    {
      "cell_type": "code",
      "metadata": {
        "id": "QmXO2vwYtV5Z"
      },
      "source": [
        "f = loadmat('data5.mat')\n",
        "D = f['x']\n",
        "np.random.shuffle(D)\n",
        "\n",
        "X_tot, y_tot = init_data(D)\n",
        "X_tot = np.insert(X_tot, 0, 1, axis=1)\n",
        "\n",
        "#Generate labels matrix\n",
        "labels = D[:, -1]\n",
        "y = np.zeros([len(X_tot), 2])"
      ],
      "execution_count": null,
      "outputs": []
    },
    {
      "cell_type": "code",
      "metadata": {
        "id": "lQhaby4SqwnU"
      },
      "source": [
        "for i in range(len(labels)):\n",
        "    if labels[i] == 1:\n",
        "        y[i,1] = 1.0\n",
        "    elif labels[i] == 0:\n",
        "        y[i,0] = 1.0\n",
        "\n",
        "hidden_neurons = 100\n",
        "output_neurons = 2"
      ],
      "execution_count": null,
      "outputs": []
    },
    {
      "cell_type": "code",
      "metadata": {
        "colab": {
          "base_uri": "https://localhost:8080/"
        },
        "id": "GrmTeHWY7Xr1",
        "outputId": "d8fbe9d1-5290-450b-d66b-77e6cabaac77"
      },
      "source": [
        "#K fold cross validation\n",
        "#Gaussian activation function\n",
        "print(\"Gaussian accuracies: \")\n",
        "for k in range(6):\n",
        "\n",
        "    X_train = X_tot[0 : 1790]\n",
        "    y_train = y[0 : 1790]\n",
        "    X_val = X_tot[1790 :]\n",
        "    y_val = y[1790 :]\n",
        "    \n",
        "    a = np.random.rand(X_train.shape[1], hidden_neurons) \n",
        "    b = np.random.rand(hidden_neurons)\n",
        "    \n",
        "    # Training \n",
        "    H = gaussian(X_train, a, b)\n",
        "    H_inv = np.linalg.pinv(H)\n",
        "    W2 = np.matmul(H_inv, y_train)\n",
        "    \n",
        "    # Testing\n",
        "    H_T = gaussian(X_val, a, b)\n",
        "    y_pred = np.matmul(H_T, W2)\n",
        "    \n",
        "    print(f'Fold {k+1}:\\n')\n",
        "    a = [np.argmax(y_pred[i]) for i in range(len(y_pred))]\n",
        "    b= [np.argmax(y_val[i]) for i in range(len(y_val))]\n",
        "    confmat = cm(b,a)\n",
        "    print(\"Confusion Matrix:\\n\")\n",
        "    print(confmat)\n",
        "    Accuracy = (confmat[0][0]+confmat[1][1])/len(y_val)\n",
        "    Sensitivity = (confmat[1][1])/(confmat[1][0] + confmat[1][1])\n",
        "    Specificity = (confmat[0][0])/(confmat[0][0] + confmat[0][1])\n",
        "    print(f\"Accuracy: {Accuracy}\\nSensitivity: {Sensitivity}\\nSpecificity: {Specificity}\")\n",
        "    print(\"=============================================\")\n",
        "\n",
        "    X_tot[0 : 358] = X_val\n",
        "    X_tot[358 : ] = X_train\n",
        "    y[0 : 358] = y_val\n",
        "    y[358 : ] = y_train\n",
        "\n"
      ],
      "execution_count": null,
      "outputs": [
        {
          "output_type": "stream",
          "text": [
            "Gaussian accuracies: \n",
            "Fold 1:\n",
            "\n",
            "Confusion Matrix:\n",
            "\n",
            "[[158  28]\n",
            " [ 26 146]]\n",
            "Accuracy: 0.8491620111731844\n",
            "Sensitivity: 0.8488372093023255\n",
            "Specificity: 0.8494623655913979\n",
            "=============================================\n",
            "Fold 2:\n",
            "\n",
            "Confusion Matrix:\n",
            "\n",
            "[[148  24]\n",
            " [ 18 168]]\n",
            "Accuracy: 0.88268156424581\n",
            "Sensitivity: 0.9032258064516129\n",
            "Specificity: 0.8604651162790697\n",
            "=============================================\n",
            "Fold 3:\n",
            "\n",
            "Confusion Matrix:\n",
            "\n",
            "[[153  31]\n",
            " [ 23 151]]\n",
            "Accuracy: 0.8491620111731844\n",
            "Sensitivity: 0.867816091954023\n",
            "Specificity: 0.8315217391304348\n",
            "=============================================\n",
            "Fold 4:\n",
            "\n",
            "Confusion Matrix:\n",
            "\n",
            "[[154  25]\n",
            " [ 21 158]]\n",
            "Accuracy: 0.8715083798882681\n",
            "Sensitivity: 0.88268156424581\n",
            "Specificity: 0.8603351955307262\n",
            "=============================================\n",
            "Fold 5:\n",
            "\n",
            "Confusion Matrix:\n",
            "\n",
            "[[153  20]\n",
            " [ 21 164]]\n",
            "Accuracy: 0.8854748603351955\n",
            "Sensitivity: 0.8864864864864865\n",
            "Specificity: 0.884393063583815\n",
            "=============================================\n",
            "Fold 6:\n",
            "\n",
            "Confusion Matrix:\n",
            "\n",
            "[[159  27]\n",
            " [ 26 146]]\n",
            "Accuracy: 0.8519553072625698\n",
            "Sensitivity: 0.8488372093023255\n",
            "Specificity: 0.8548387096774194\n",
            "=============================================\n"
          ],
          "name": "stdout"
        }
      ]
    },
    {
      "cell_type": "code",
      "metadata": {
        "colab": {
          "base_uri": "https://localhost:8080/"
        },
        "id": "nHhZD2G55z-b",
        "outputId": "2c329ac4-55cf-43de-cddb-aaaf83a6e7e1"
      },
      "source": [
        "#Tanh activation function\n",
        "y_pred_full = []\n",
        "print(\"Tanh accuracies:\\n\")\n",
        "for k in range(6):\n",
        "    \n",
        "    X_train = X_tot[0 : 1790]\n",
        "    y_train = y[0 : 1790]\n",
        "    X_val = X_tot[1790 :]\n",
        "    y_val = y[1790 :]\n",
        "    \n",
        "    a = np.random.rand(X_train.shape[1],hidden_neurons) \n",
        "    b = np.random.rand(hidden_neurons)\n",
        "    \n",
        "    # Training \n",
        "    H = tanh(X_train)\n",
        "    H_inv = np.linalg.pinv(H)\n",
        "    W2 = np.matmul(H_inv, y_train)\n",
        "    \n",
        "    # Testing\n",
        "    H_T = tanh(X_val)\n",
        "    y_pred = np.matmul(H_T, W2)\n",
        "    \n",
        "\n",
        "    # for p in range(len(y_pred)):\n",
        "    #     if np.argmax(y_pred[p]) == np.argmax(y_val[p]):\n",
        "    #         accuracy += 1\n",
        "    #     y_pred_full.append(np.argmax(y_pred[p]))\n",
        "    # accuracy = accuracy / len(y_pred)\n",
        "\n",
        "    print(f'Fold {k+1}:\\n')\n",
        "    a = [np.argmax(y_pred[i]) for i in range(len(y_pred))]\n",
        "    b= [np.argmax(y_val[i]) for i in range(len(y_val))]\n",
        "    confmat = cm(b,a)\n",
        "    print(\"Confusion Matrix:\\n\")\n",
        "    print(confmat)\n",
        "    Accuracy = (confmat[0][0]+confmat[1][1])/len(y_val)\n",
        "    Sensitivity = (confmat[1][1])/(confmat[1][0] + confmat[1][1])\n",
        "    Specificity = (confmat[0][0])/(confmat[0][0] + confmat[0][1])\n",
        "    print(f\"Accuracy: {Accuracy}\\nSensitivity: {Sensitivity}\\nSpecificity: {Specificity}\")\n",
        "    print(\"=============================================\")\n",
        "    \n",
        "\n",
        "    X_tot[0 : 358] = X_val\n",
        "    X_tot[358 : ] = X_train\n",
        "    y[0 : 358] = y_val\n",
        "    y[358 : ] = y_train\n"
      ],
      "execution_count": null,
      "outputs": [
        {
          "output_type": "stream",
          "text": [
            "Tanh accuracies:\n",
            "\n",
            "Fold 1:\n",
            "\n",
            "Confusion Matrix:\n",
            "\n",
            "[[137  35]\n",
            " [ 28 158]]\n",
            "Accuracy: 0.8240223463687151\n",
            "Sensitivity: 0.8494623655913979\n",
            "Specificity: 0.7965116279069767\n",
            "=============================================\n",
            "Fold 2:\n",
            "\n",
            "Confusion Matrix:\n",
            "\n",
            "[[149  35]\n",
            " [ 28 146]]\n",
            "Accuracy: 0.8240223463687151\n",
            "Sensitivity: 0.8390804597701149\n",
            "Specificity: 0.8097826086956522\n",
            "=============================================\n",
            "Fold 3:\n",
            "\n",
            "Confusion Matrix:\n",
            "\n",
            "[[147  32]\n",
            " [ 17 162]]\n",
            "Accuracy: 0.8631284916201117\n",
            "Sensitivity: 0.9050279329608939\n",
            "Specificity: 0.8212290502793296\n",
            "=============================================\n",
            "Fold 4:\n",
            "\n",
            "Confusion Matrix:\n",
            "\n",
            "[[147  26]\n",
            " [ 28 157]]\n",
            "Accuracy: 0.8491620111731844\n",
            "Sensitivity: 0.8486486486486486\n",
            "Specificity: 0.8497109826589595\n",
            "=============================================\n",
            "Fold 5:\n",
            "\n",
            "Confusion Matrix:\n",
            "\n",
            "[[155  31]\n",
            " [ 33 139]]\n",
            "Accuracy: 0.8212290502793296\n",
            "Sensitivity: 0.8081395348837209\n",
            "Specificity: 0.8333333333333334\n",
            "=============================================\n",
            "Fold 6:\n",
            "\n",
            "Confusion Matrix:\n",
            "\n",
            "[[137  35]\n",
            " [ 28 158]]\n",
            "Accuracy: 0.8240223463687151\n",
            "Sensitivity: 0.8494623655913979\n",
            "Specificity: 0.7965116279069767\n",
            "=============================================\n"
          ],
          "name": "stdout"
        }
      ]
    }
  ]
}